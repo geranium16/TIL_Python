{
 "cells": [
  {
   "cell_type": "code",
   "execution_count": 55,
   "metadata": {},
   "outputs": [
    {
     "name": "stdout",
     "output_type": "stream",
     "text": [
      "1\n",
      "1\n",
      "1\n",
      "2\n",
      "['Harsh', 'Beria', [0, 0, 0], [0, 0, 1], [0, 1, 0], [1, 0, 0], [1, 1, 1], [0, 0, 0], [0, 0, 1], [0, 1, 0], [1, 0, 0], [1, 1, 1]]\n"
     ]
    }
   ],
   "source": [
    "x=int(input())\n",
    "y=int(input())\n",
    "z=int(input())\n",
    "n=int(input())\n",
    "\n",
    "list2\n",
    "for i in range(0,x+1) :\n",
    "    for j in range(0,y+1) :\n",
    "        for k in range(0,z+1) :\n",
    "            if i+j+k!=n :\n",
    "                temp = []\n",
    "                temp.append(i)\n",
    "                temp.append(j)\n",
    "                temp.append(k)\n",
    "                list2.append(temp)\n",
    "\n",
    "print(list2)\n",
    "                \n",
    "            "
   ]
  },
  {
   "cell_type": "code",
   "execution_count": 41,
   "metadata": {},
   "outputs": [
    {
     "name": "stdout",
     "output_type": "stream",
     "text": [
      "5\n",
      "Harsh\n",
      "20\n",
      "Beria\n",
      "20\n",
      "Varun\n",
      "19\n",
      "Kaku\n",
      "19\n",
      "Vikas\n",
      "21\n",
      "Harsh\n",
      "Beria\n"
     ]
    }
   ],
   "source": [
    "n = int(input())\n",
    "dic = {}\n",
    "for i in range(0,n) :\n",
    "    a=input()\n",
    "    b=float(input())\n",
    "    dic[a]=b\n",
    "KEY=list(dic.keys())\n",
    "VALUE=list(dic.values())\n",
    "for i in range(0,len(VALUE)-1) :\n",
    "    for j in range(i+1,len(VALUE)):\n",
    "        if VALUE[i]>VALUE[j] :\n",
    "            VALUE[i], VALUE[j] = VALUE[j], VALUE[i]\n",
    "            KEY[i], KEY[j] = KEY[j], KEY[i]\n",
    "\n",
    "SeondIndex=0\n",
    "for i in range(1,n) :\n",
    "    if VALUE[i]!=VALUE[0] :\n",
    "        SeondIndex=i\n",
    "        break\n",
    "\n",
    "list2 = [KEY[SeondIndex]]\n",
    "for i in range(0,n):\n",
    "    if i==SeondIndex :\n",
    "        continue\n",
    "    if VALUE[a]==VALUE[i] :\n",
    "        list2.append(KEY[i])\n",
    "        \n",
    "list2.sort()\n",
    "for i in list2 :\n",
    "    print(i)\n",
    "    \n",
    "    \n"
   ]
  },
  {
   "cell_type": "code",
   "execution_count": null,
   "metadata": {},
   "outputs": [],
   "source": []
  },
  {
   "cell_type": "code",
   "execution_count": null,
   "metadata": {},
   "outputs": [],
   "source": []
  },
  {
   "cell_type": "code",
   "execution_count": null,
   "metadata": {},
   "outputs": [],
   "source": [
    "1\n",
    "3\n",
    "4\n",
    "2\n",
    "\n",
    "3\n"
   ]
  }
 ],
 "metadata": {
  "kernelspec": {
   "display_name": "Python 3",
   "language": "python",
   "name": "python3"
  },
  "language_info": {
   "codemirror_mode": {
    "name": "ipython",
    "version": 3
   },
   "file_extension": ".py",
   "mimetype": "text/x-python",
   "name": "python",
   "nbconvert_exporter": "python",
   "pygments_lexer": "ipython3",
   "version": "3.8.1"
  }
 },
 "nbformat": 4,
 "nbformat_minor": 4
}
