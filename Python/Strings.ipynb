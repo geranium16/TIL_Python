{
 "cells": [
  {
   "cell_type": "code",
   "execution_count": 8,
   "metadata": {
    "collapsed": true
   },
   "outputs": [
    {
     "name": "stdout",
     "output_type": "stream",
     "text": [
      "HackerRank.com presents \"Pythonist 2\".\n"
     ]
    },
    {
     "data": {
      "text/plain": [
       "'hACKERrANK.COM PRESENTS \"pYTHONIST 2\".'"
      ]
     },
     "execution_count": 8,
     "metadata": {},
     "output_type": "execute_result"
    }
   ],
   "source": [
    "#1.sWAP cASE\n",
    "#https://www.hackerrank.com/challenges/swap-case/problem\n",
    "s=input()\n",
    "s.swapcase()"
   ]
  },
  {
   "cell_type": "markdown",
   "metadata": {},
   "source": [
    "# String 관련 함수\n",
    "- upper:주어진 문자열에서 모든 알파벳들을 대문자로 변환시킨다.\n",
    "- lower:주어진 문자열에 모든 알파벳들을 소문자로 변환시킨다.\n",
    "- capitalize:주어진 문자열에서 맨 첫 글자를 대문자로 변환시킨다.\n",
    "- swapcase: 대문자는 소문자로,소문자는 대문자로\n",
    "- title\t주어진 문자열에서 알파벳 외의 문자(숫자, 특수기호, 띄어쓰기 등)로 나누어져 있는 영단어들의 첫 글자를 모두 대문자로 변환시킨다.\n",
    "- count(\"\") \"\"문자열이 출현한 횟수 반환\n",
    "- find(\"like\",3) 3 부터 like가 처음 위치한 위치 반환"
   ]
  },
  {
   "cell_type": "code",
   "execution_count": 9,
   "metadata": {
    "collapsed": true
   },
   "outputs": [
    {
     "name": "stdout",
     "output_type": "stream",
     "text": [
      "this is a string\n"
     ]
    },
    {
     "data": {
      "text/plain": [
       "'this-is-a-string'"
      ]
     },
     "execution_count": 9,
     "metadata": {},
     "output_type": "execute_result"
    }
   ],
   "source": [
    "#2.String Split and Join\n",
    "#https://www.hackerrank.com/challenges/python-string-split-and-join/problem?h_r=next-challenge&h_v=zen\n",
    "s=input()\n",
    "s.replace(\" \",\"-\") "
   ]
  },
  {
   "cell_type": "markdown",
   "metadata": {},
   "source": [
    "# String 관련 함수\n",
    "replace(\" \",\"-\") # 모든 \" \"을 \"-\"로 대체한 string을 반환"
   ]
  },
  {
   "cell_type": "code",
   "execution_count": 15,
   "metadata": {
    "collapsed": true
   },
   "outputs": [
    {
     "name": "stdout",
     "output_type": "stream",
     "text": [
      "a\n",
      "b\n",
      "Hello a b! You just delved into python.\n"
     ]
    }
   ],
   "source": [
    "#3.What's Your Name?\n",
    "#https://www.hackerrank.com/challenges/whats-your-name/problem?h_r=next-challenge&h_v=zen&h_r=next-challenge&h_v=zen\n",
    "firstname=input()\n",
    "lastname=input()\n",
    "str=\"Hello %s %s! You just delved into python.\" %(firstname,lastname)\n",
    "print(str)\n"
   ]
  },
  {
   "cell_type": "code",
   "execution_count": 20,
   "metadata": {},
   "outputs": [
    {
     "name": "stdout",
     "output_type": "stream",
     "text": [
      "dasfsdf\n",
      "5 k\n",
      "dasfskdf\n"
     ]
    }
   ],
   "source": [
    "#4.Mutation\n",
    "#https://www.hackerrank.com/challenges/python-mutations/problem\n",
    "s=input()\n",
    "command=input().split()\n",
    "s= s[:int(command[0])] +command[1]+s[int(command[0]+1):]\n",
    "print(s)"
   ]
  },
  {
   "cell_type": "code",
   "execution_count": 6,
   "metadata": {},
   "outputs": [
    {
     "name": "stdout",
     "output_type": "stream",
     "text": [
      "abcbc\n",
      "bc\n",
      "2\n"
     ]
    }
   ],
   "source": [
    "#5.find a string\n",
    "#https://www.hackerrank.com/challenges/find-a-string/problem\n",
    "\n",
    "s=input()\n",
    "what=input()\n",
    "cnt=0\n",
    "for i in range(len(s)-len(what)):\n",
    "    if s[i:i+len(what)]==what :\n",
    "        cnt+=1\n",
    "print(cnt)\n",
    "  "
   ]
  },
  {
   "cell_type": "markdown",
   "metadata": {},
   "source": [
    "# List Comprehension\n",
    "\n",
    "1. print(sum([1 for i in range(len(s)-len(what)+1)if s[i:i+len(what)]==what])) = 한 줄로 처리가능\n",
    "2. s.count(what) 는 1을 반환한다. ABCDCBC에서 CDC를 찾앗으면 그 다음 B부터 찾아서 겹치는 부분 찾을 수 없다.\n",
    "\n",
    "s[:x] # x위치에 변수사용가능 , \n",
    "s[0:4] #시작점은 포함하지만 끝점은 포함 x 0,1,2,3"
   ]
  },
  {
   "cell_type": "code",
   "execution_count": 8,
   "metadata": {},
   "outputs": [
    {
     "name": "stdout",
     "output_type": "stream",
     "text": [
      "123\n",
      "False\n",
      "True\n",
      "True\n",
      "False\n",
      "False\n"
     ]
    }
   ],
   "source": [
    "#6.String Validators\n",
    "#https://www.hackerrank.com/challenges/string-validators/problem\n",
    "s=input()\n",
    "temp=[False,False,False,False,False]\n",
    "for i in s :\n",
    "    if i.isalnum() :\n",
    "        temp[0]=True\n",
    "    if i.isalpha():\n",
    "        temp[1]=True\n",
    "    if i.isdigit():\n",
    "        temp[2]=True\n",
    "    if i.islower():\n",
    "        temp[3]=True\n",
    "    if i.isupper():\n",
    "        temp[4]=True\n",
    "\n",
    "for i in range(5):\n",
    "    print(temp[i])"
   ]
  },
  {
   "cell_type": "markdown",
   "metadata": {},
   "source": [
    "# String & Any 함수\n",
    "\n",
    "any(x)는 x 중 하나라도 참이 있으면 True를 돌려주고, x가 모두 거짓일 때에만 False를 돌려준다. all(x)의 반대이다.\n",
    "\n",
    "- s = input()\n",
    "- print(any(c.isalnum() for c in s))\n",
    "- print(any(c.isalpha() for c in s))\n",
    "- print(any(c.isdigit() for c in s))\n",
    "- print(any(c.islower() for c in s))\n",
    "- print(any(c.isupper() for c in s))"
   ]
  },
  {
   "cell_type": "code",
   "execution_count": 12,
   "metadata": {},
   "outputs": [
    {
     "name": "stdout",
     "output_type": "stream",
     "text": [
      "5\n",
      "    H    \n",
      "   HHH   \n",
      "  HHHHH  \n",
      " HHHHHHH \n",
      "HHHHHHHHH\n",
      "  HHHHH               HHHHH             \n",
      "  HHHHH               HHHHH             \n",
      "  HHHHH               HHHHH             \n",
      "  HHHHH               HHHHH             \n",
      "  HHHHH               HHHHH             \n",
      "  HHHHH               HHHHH             \n",
      "     HHHHHHHHHHHHHHHHHHHHHHHHH\n",
      "     HHHHHHHHHHHHHHHHHHHHHHHHH\n",
      "     HHHHHHHHHHHHHHHHHHHHHHHHH\n",
      "  HHHHH               HHHHH             \n",
      "  HHHHH               HHHHH             \n",
      "  HHHHH               HHHHH             \n",
      "  HHHHH               HHHHH             \n",
      "  HHHHH               HHHHH             \n",
      "  HHHHH               HHHHH             \n",
      "                    HHHHHHHHH \n",
      "                     HHHHHHH  \n",
      "                      HHHHH   \n",
      "                       HHH    \n",
      "                        H     \n"
     ]
    }
   ],
   "source": [
    "#7.Text Alignment\n",
    "#https://www.hackerrank.com/challenges/text-alignment/problem\n",
    "\n",
    "    \n",
    "#Replace all ______ with rjust, ljust or center. \n",
    "\n",
    "thickness = int(input()) #This must be an odd number\n",
    "c = 'H'\n",
    "\n",
    "#Top Cone\n",
    "for i in range(thickness):\n",
    "    print((c*i).rjust(thickness-1)+c+(c*i).ljust(thickness-1))\n",
    "\n",
    "#Top Pillars\n",
    "for i in range(thickness+1):\n",
    "    print((c*thickness).center(thickness*2)+(c*thickness).center(thickness*6))\n",
    "\n",
    "#Middle Belt\n",
    "for i in range((thickness+1)//2):\n",
    "    print((c*thickness*5).rjust(thickness*6))    \n",
    "\n",
    "#Bottom Pillars\n",
    "for i in range(thickness+1):\n",
    "    print((c*thickness).center(thickness*2)+(c*thickness).center(thickness*6))    \n",
    "\n",
    "#Bottom Cone\n",
    "for i in range(thickness):\n",
    "    print(((c*(thickness-i-1)).rjust(thickness)+c+(c*(thickness-i-1)).ljust(thickness)).rjust(thickness*6))\n",
    "\n"
   ]
  },
  {
   "cell_type": "code",
   "execution_count": null,
   "metadata": {},
   "outputs": [],
   "source": [
    "#Designer Door Mat\n",
    "#https://www.hackerrank.com/challenges/designer-door-mat/problem\n",
    "\n",
    "intList=tuple(map(int,input().split()))\n",
    "n=intList[0]\n",
    "m=intList[1]\n",
    "for i in range(0,n//2):\n",
    "    for j in range(0,(m-3-6*i)//2):\n",
    "        print(\"-\",end='')\n",
    "    for j in range(0,1+i*2) :\n",
    "        print(\".l.\",end='')\n",
    "    for j in range(0,(m-3-6*i)//2):\n",
    "        print(\"-\",end='')\n",
    "    print(\"\")\n",
    "    \n",
    "for k in range(0,(m-7)//2):\n",
    "    print(\"-\",end='')\n",
    "print(\"WELCOME\",end='')\n",
    "for k in range(0,(m-7)//2):\n",
    "    print(\"-\",end='')\n",
    "print('')\n",
    "for i in range(1,n//2+1):\n",
    "    for j in range(0,(m-3-6*(n//2-i))//2):\n",
    "        print(\"-\",end='')\n",
    "    for j in range(0,1+(n//2-i)*2) :\n",
    "         print(\".l.\",end='')\n",
    "    for j in range(0,(m-3-6*(n//2-i))//2):\n",
    "        print(\"-\",end='')\n",
    "    print(\"\")"
   ]
  }
 ],
 "metadata": {
  "kernelspec": {
   "display_name": "Python 3",
   "language": "python",
   "name": "python3"
  },
  "language_info": {
   "codemirror_mode": {
    "name": "ipython",
    "version": 3
   },
   "file_extension": ".py",
   "mimetype": "text/x-python",
   "name": "python",
   "nbconvert_exporter": "python",
   "pygments_lexer": "ipython3",
   "version": "3.8.1"
  }
 },
 "nbformat": 4,
 "nbformat_minor": 4
}
