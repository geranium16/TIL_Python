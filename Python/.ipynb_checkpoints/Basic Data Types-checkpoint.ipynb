{
 "cells": [
  {
   "cell_type": "code",
   "execution_count": null,
   "metadata": {},
   "outputs": [],
   "source": [
    "#1.List Comprehensions \n",
    "#https://www.hackerrank.com/challenges/list-comprehensions/problem\n",
    "x=int(input())\n",
    "y=int(input())\n",
    "z=int(input())\n",
    "n=int(input())\n",
    "\n",
    "list2=[]\n",
    "for i in range(0,x+1) :\n",
    "    for j in range(0,y+1) :\n",
    "        for k in range(0,z+1) :\n",
    "            if i+j+k!=n :\n",
    "                temp = []\n",
    "                temp.append(i)\n",
    "                temp.append(j)\n",
    "                temp.append(k)\n",
    "                list2.append(temp)\n",
    "\n",
    "print(list2)\n",
    "                \n",
    "            \n"
   ]
  },
  {
   "cell_type": "code",
   "execution_count": 20,
   "metadata": {
    "scrolled": true
   },
   "outputs": [
    {
     "name": "stdout",
     "output_type": "stream",
     "text": [
      "5\n",
      "2 3 6 6 5\n",
      "5\n"
     ]
    }
   ],
   "source": [
    "#2.Find the Runner-Up Score!\n",
    "#https://www.hackerrank.com/challenges/find-second-maximum-number-in-a-list/problem\n",
    "n=int(input())\n",
    "Score=map(int,input().split())\n",
    "ScoreSet=set(Score)\n",
    "ScoreList=list(ScoreSet)\n",
    "ScoreList.sort()\n",
    "print(ScoreList[-2])\n",
    "\n"
   ]
  },
  {
   "cell_type": "markdown",
   "metadata": {},
   "source": [
    "#2.Find the Runner-Up Score!\n",
    "\n",
    "**map은 리스트의 요소를 지정된 함수로 처리해주는 함수이다.**\n",
    "list(map(함수,리스트))\n",
    "Tuple(map(함수,튜플))\n",
    "\n",
    "- 이 문제의 핵심은 엔터가 아닌 ' ' 띄어쓰기로 입력된 수를 정수로 받아 오는 것이다.\n",
    "map(int,input().spit())은 리스트를 int로 받아오는데 input.split()은 ' '를 기준으로 입력된 값을 리스트로 받는다. (/)이면 /기준으로\n",
    "\n",
    "set(Scroe) - set으로 만들어 중복제거\n",
    "list로 만들어 정렬기능 수행\n"
   ]
  },
  {
   "cell_type": "code",
   "execution_count": null,
   "metadata": {},
   "outputs": [],
   "source": [
    "#3.Tuples\n",
    "#https://www.hackerrank.com/challenges/python-tuples/problem\n",
    "n=int(input())\n",
    "intList=tuple(map(int,input().split()))\n",
    "print(hash(intList))\n"
   ]
  },
  {
   "cell_type": "markdown",
   "metadata": {},
   "source": [
    "#3.Tuples\n",
    "**hash(object)**\n",
    "객체의 해시값을 돌려줍니다 (해시가 있는 경우). 해시값은 정수다. 딕셔너리 조회 중에 딕셔너리 키를 빨리 비교하는 데 사용됩니다. 같다고 비교되는 숫자 값은 같은 해시값을 갖습니다 (1과 1.0의 경우와 같이 형이 다른 경우조차도 그렇습니다).\n",
    "**hash**\n",
    "해쉬란 임의의 크기를 가진 데이터를 고정된 데이터의 크기로 변환시키는 것을 말한다. 이를 이용해 특정한 배열의 인덱스나 위치, 위치를 입력하고자 하는 데이터의 값을 이용해 저장하거나 찾을 수 있다. 기존에 사용했던 자료구조들은 탐색이나 삽입에 선형시간이 걸리기도 했던 것에 비해, 해쉬를 이용하면 즉시 저장하거나 찾고자 하는 위치를 참조할 수 있으므로 더욱 빠른 속도로 처리할 수 있다."
   ]
  },
  {
   "cell_type": "code",
   "execution_count": null,
   "metadata": {},
   "outputs": [],
   "source": [
    "n = int(input())\n",
    "dic = {}\n",
    "for i in range(0,n) :\n",
    "    a=input()\n",
    "    b=float(input())\n",
    "    dic[a]=b\n",
    "KEY=list(dic.keys())\n",
    "VALUE=list(dic.values())\n",
    "for i in range(0,len(VALUE)-1) :\n",
    "    for j in range(i+1,len(VALUE)):\n",
    "        if VALUE[i]>VALUE[j] :\n",
    "            VALUE[i], VALUE[j] = VALUE[j], VALUE[i]\n",
    "            KEY[i], KEY[j] = KEY[j], KEY[i]\n",
    "\n",
    "SeondIndex=0\n",
    "for i in range(1,n) :\n",
    "    if VALUE[i]!=VALUE[0] :\n",
    "        SeondIndex=i\n",
    "        break\n",
    "\n",
    "list2 = [KEY[SeondIndex]]\n",
    "for i in range(0,n):\n",
    "    if i==SeondIndex :\n",
    "        continue\n",
    "    if VALUE[a]==VALUE[i] :\n",
    "        list2.append(KEY[i])\n",
    "        \n",
    "list2.sort()\n",
    "for i in list2 :\n",
    "    print(i)\n",
    "    \n",
    "    \n"
   ]
  },
  {
   "cell_type": "code",
   "execution_count": null,
   "metadata": {},
   "outputs": [],
   "source": []
  },
  {
   "cell_type": "code",
   "execution_count": null,
   "metadata": {},
   "outputs": [],
   "source": [
    "1\n",
    "3\n",
    "4\n",
    "2\n",
    "\n",
    "3\n"
   ]
  }
 ],
 "metadata": {
  "kernelspec": {
   "display_name": "Python 3",
   "language": "python",
   "name": "python3"
  },
  "language_info": {
   "codemirror_mode": {
    "name": "ipython",
    "version": 3
   },
   "file_extension": ".py",
   "mimetype": "text/x-python",
   "name": "python",
   "nbconvert_exporter": "python",
   "pygments_lexer": "ipython3",
   "version": "3.8.1"
  }
 },
 "nbformat": 4,
 "nbformat_minor": 4
}
