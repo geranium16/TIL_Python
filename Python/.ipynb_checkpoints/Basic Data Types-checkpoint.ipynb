{
 "cells": [
  {
   "cell_type": "code",
   "execution_count": null,
   "metadata": {},
   "outputs": [],
   "source": [
    "#1.List Comprehensions \n",
    "#https://www.hackerrank.com/challenges/list-comprehensions/problem\n",
    "x=int(input())\n",
    "y=int(input())\n",
    "z=int(input())\n",
    "n=int(input())\n",
    "\n",
    "list2=[]\n",
    "for i in range(0,x+1) :\n",
    "    for j in range(0,y+1) :\n",
    "        for k in range(0,z+1) :\n",
    "            if i+j+k!=n :\n",
    "                temp = []\n",
    "                temp.append(i)\n",
    "                temp.append(j)\n",
    "                temp.append(k)\n",
    "                list2.append(temp)\n",
    "\n",
    "print(list2)\n",
    "                \n",
    "            \n"
   ]
  },
  {
   "cell_type": "code",
   "execution_count": 20,
   "metadata": {
    "scrolled": true
   },
   "outputs": [
    {
     "name": "stdout",
     "output_type": "stream",
     "text": [
      "5\n",
      "2 3 6 6 5\n",
      "5\n"
     ]
    }
   ],
   "source": [
    "#2.Find the Runner-Up Score!\n",
    "#https://www.hackerrank.com/challenges/find-second-maximum-number-in-a-list/problem\n",
    "n=int(input())\n",
    "Score=map(int,input().split())\n",
    "ScoreSet=set(Score)\n",
    "ScoreList=list(ScoreSet)\n",
    "ScoreList.sort()\n",
    "print(ScoreList[-2])\n",
    "\n"
   ]
  },
  {
   "cell_type": "markdown",
   "metadata": {},
   "source": [
    "#2.Find the Runner-Up Score!\n",
    "\n",
    "**map은 리스트의 요소를 지정된 함수로 처리해주는 함수이다.**\n",
    "list(map(함수,리스트))\n",
    "Tuple(map(함수,튜플))\n",
    "\n",
    "- 이 문제의 핵심은 엔터가 아닌 ' ' 띄어쓰기로 입력된 수를 정수로 받아 오는 것이다.\n",
    "map(int,input().spit())은 리스트를 int로 받아오는데 input.split()은 ' '를 기준으로 입력된 값을 리스트로 받는다. (/)이면 /기준으로\n",
    "\n",
    "set(Scroe) - set으로 만들어 중복제거\n",
    "<set>\n",
    "s=set(\"hello\") # s={h,e,l,o}\n",
    "s={\"1\",3,5,(1,3)} # s={(1,3),5,3,'1'}\n",
    "\n",
    "   \n",
    "- set은 dict타입과 동일한 중괄호를 사용하므로, 중괄호만으로는 생성할 수 없다.\n",
    "- 중복을 허용하지 않는다.\n",
    "- 순서가 없다(Unordered).\n",
    "-  iterable한 객체(반복가능한 객체)를 넣으면 변환하여 set으로 만들어준다. \"hello\" -> {h,e,l,o}\n",
    "리스트나 튜플은 순서가 있기(ordered) 때문에 인덱싱을 통해 자료형의 값을 얻을 수 있지만 set 자료형은 순서가 없기(unordered) 때문에 인덱싱으로 값을 얻을 수 없다. \n",
    "\n",
    "만약 set 자료형에 저장된 값을 인덱싱으로 접근하려면 다음과 같이 리스트나 튜플로 변환한후 해야 한다.\n",
    "\n",
    "※ 중복을 허용하지 않는 set의 특징은 자료형의 중복을 제거하기 위한 필터 역할로 종종 사용하기도 한다\n"
   ]
  },
  {
   "cell_type": "code",
   "execution_count": null,
   "metadata": {},
   "outputs": [],
   "source": [
    "#3.Nested Lists\n",
    "n = int(input())\n",
    "dic = {}\n",
    "for i in range(0,n) :\n",
    "    a=input()\n",
    "    b=float(input())\n",
    "    dic[a]=b\n",
    "KEY=list(dic.keys())\n",
    "VALUE=list(dic.values())\n",
    "for i in range(0,len(VALUE)-1) :\n",
    "    for j in range(i+1,len(VALUE)):\n",
    "        if VALUE[i]>VALUE[j] :\n",
    "            VALUE[i], VALUE[j] = VALUE[j], VALUE[i]\n",
    "            KEY[i], KEY[j] = KEY[j], KEY[i]\n",
    "\n",
    "SeondIndex=0\n",
    "for i in range(1,n) :\n",
    "    if VALUE[i]!=VALUE[0] :\n",
    "        SeondIndex=i\n",
    "        break\n",
    "\n",
    "list2 = [KEY[SeondIndex]]\n",
    "for i in range(0,n):\n",
    "    if i==SeondIndex :\n",
    "        continue\n",
    "    if VALUE[a]==VALUE[i] :\n",
    "        list2.append(KEY[i])\n",
    "        \n",
    "list2.sort()\n",
    "for i in list2 :\n",
    "    print(i)\n",
    "    \n",
    "    \n"
   ]
  },
  {
   "cell_type": "code",
   "execution_count": null,
   "metadata": {},
   "outputs": [],
   "source": [
    "#4.Finding the percentage\n",
    "#https://www.hackerrank.com/challenges/finding-the-percentage/problem\n",
    "n=int(input())\n",
    "\n",
    "studentDict={}\n",
    "for i in range(0,n) :\n",
    "    student=list(map(str,input().split()))\n",
    "    studentDict[student[0]]=\"%0.2f\" % ((float(student[1])+float(student[2])+float(student[3]))/3)\n",
    "\n",
    "who=input()\n",
    "for i in studentDict:\n",
    "    if who==i :\n",
    "        print(studentDict[i])\n",
    "        \n",
    "    "
   ]
  },
  {
   "cell_type": "code",
   "execution_count": null,
   "metadata": {
    "scrolled": false
   },
   "outputs": [
    {
     "name": "stdout",
     "output_type": "stream",
     "text": [
      "12\n",
      "insert 1 5\n",
      "inser 9 50\n",
      "inser 3 23\n",
      "print\n",
      "[5]\n"
     ]
    }
   ],
   "source": [
    "#5.Lists\n",
    "#https://www.hackerrank.com/challenges/python-lists/problem\n",
    "n=int(input())\n",
    "data=[]\n",
    "for i in range(n) :\n",
    "    command=input().split()\n",
    "    if command[0]==\"insert\" :\n",
    "        data.insert(int(command[1]),int(command[2]))\n",
    "    elif command[0]==\"print\":\n",
    "        print(data)\n",
    "    elif command[0]==\"remove\":\n",
    "        data.remove(int(command[1]))\n",
    "    elif command[0]==\"sort\":\n",
    "        data.sort()\n",
    "    elif command[0]==\"pop\":\n",
    "        data.pop()\n",
    "    elif command[0]==\"reverse\":\n",
    "        data.reverse()\n",
    "    elif command[0]==\"append\":\n",
    "        data.append(int(command[1]))\n",
    "    \n",
    "     "
   ]
  },
  {
   "cell_type": "markdown",
   "metadata": {},
   "source": [
    "#5.Lists\n",
    "#https://www.hackerrank.com/challenges/python-lists/problem\n",
    "- input.split()을 이용하여 list형태로 한 줄을 읽어온다.\n",
    "- list.insert함수를 이용하여 (idx,var) list[idx]에 var을 추가한다. 이때 링크드리스트처럼 원래 있던 데이터는 뒤로 밀려나 연결된다.\n",
    "- list.append는 마지막에 추가시킨다.\n",
    "\n"
   ]
  },
  {
   "cell_type": "code",
   "execution_count": null,
   "metadata": {},
   "outputs": [],
   "source": [
    "#6.Tuples\n",
    "#https://www.hackerrank.com/challenges/python-tuples/problem\n",
    "n=int(input())\n",
    "intList=tuple(map(int,input().split()))\n",
    "print(hash(intList))\n"
   ]
  },
  {
   "cell_type": "markdown",
   "metadata": {},
   "source": [
    "#6.Tuples\n",
    "**hash(object)**\n",
    "객체의 해시값을 돌려줍니다 (해시가 있는 경우). 해시값은 정수다. 딕셔너리 조회 중에 딕셔너리 키를 빨리 비교하는 데 사용된다. 같다고 비교되는 숫자 값은 같은 해시값을 갖습니다 (1과 1.0의 경우와 같이 형이 다른 경우조차도 같다.)\n",
    "**hash**\n",
    "해쉬란 임의의 크기를 가진 데이터를 고정된 데이터의 크기로 변환시키는 것을 말한다. 이를 이용해 특정한 배열의 인덱스나 위치, 위치를 입력하고자 하는 데이터의 값을 이용해 저장하거나 찾을 수 있다. 기존에 사용했던 자료구조들은 탐색이나 삽입에 선형시간이 걸리기도 했던 것에 비해, 해쉬를 이용하면 즉시 저장하거나 찾고자 하는 위치를 참조할 수 있으므로 더욱 빠른 속도로 처리할 수 있다."
   ]
  }
 ],
 "metadata": {
  "kernelspec": {
   "display_name": "Python 3",
   "language": "python",
   "name": "python3"
  },
  "language_info": {
   "codemirror_mode": {
    "name": "ipython",
    "version": 3
   },
   "file_extension": ".py",
   "mimetype": "text/x-python",
   "name": "python",
   "nbconvert_exporter": "python",
   "pygments_lexer": "ipython3",
   "version": "3.8.1"
  }
 },
 "nbformat": 4,
 "nbformat_minor": 4
}
