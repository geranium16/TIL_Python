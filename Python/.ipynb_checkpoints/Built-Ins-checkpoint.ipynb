{
 "cells": [
  {
   "cell_type": "code",
   "execution_count": null,
   "metadata": {},
   "outputs": [],
   "source": [
    "#ginortS\n",
    "#https://www.hackerrank.com/challenges/ginorts/problem\n",
    "s=input()\n",
    "s=sorted(s)\n",
    "word=''\n",
    "WORD=''\n",
    "odd=''\n",
    "even=''\n",
    "for i in s:\n",
    "    if i.isalpha() :\n",
    "        if i.islower() :\n",
    "            word+=i;\n",
    "        else :\n",
    "            WORD+=i;\n",
    "            \n",
    "    else :\n",
    "        if int(i)%2==0 :\n",
    "            even+=i;\n",
    "        else:\n",
    "            odd+=i;\n",
    "            \n",
    "print(word+WORD+odd+even)\n",
    "        \n",
    "        "
   ]
  }
 ],
 "metadata": {
  "kernelspec": {
   "display_name": "Python 3",
   "language": "python",
   "name": "python3"
  },
  "language_info": {
   "codemirror_mode": {
    "name": "ipython",
    "version": 3
   },
   "file_extension": ".py",
   "mimetype": "text/x-python",
   "name": "python",
   "nbconvert_exporter": "python",
   "pygments_lexer": "ipython3",
   "version": "3.8.1"
  }
 },
 "nbformat": 4,
 "nbformat_minor": 4
}
