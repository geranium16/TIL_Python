{
 "cells": [
  {
   "cell_type": "code",
   "execution_count": 28,
   "metadata": {},
   "outputs": [
    {
     "name": "stdout",
     "output_type": "stream",
     "text": [
      "5\n"
     ]
    }
   ],
   "source": [
    "#Find Angle MBC\n",
    "#https://www.hackerrank.com/challenges/find-angle/problem?h_r=internal-search\n",
    "\n",
    "import math\n",
    "\n",
    "y=float(input())\n",
    "x=float(input())\n",
    "temp=(y/x)\n",
    "\n",
    "print(round(math.degrees(math.atan(temp))),end=\"°\")"
   ]
  },
  {
   "cell_type": "markdown",
   "metadata": {},
   "source": [
    "- math라이브러리: tan,cos,degree 관련 함수\n",
    "- round = 4.5 = 5로 올린다.\n",
    "- int() = 내림"
   ]
  }
 ],
 "metadata": {
  "kernelspec": {
   "display_name": "Python 3",
   "language": "python",
   "name": "python3"
  },
  "language_info": {
   "codemirror_mode": {
    "name": "ipython",
    "version": 3
   },
   "file_extension": ".py",
   "mimetype": "text/x-python",
   "name": "python",
   "nbconvert_exporter": "python",
   "pygments_lexer": "ipython3",
   "version": "3.8.1"
  }
 },
 "nbformat": 4,
 "nbformat_minor": 4
}
