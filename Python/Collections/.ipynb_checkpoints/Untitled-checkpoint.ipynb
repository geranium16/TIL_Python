{
 "cells": [
  {
   "cell_type": "code",
   "execution_count": null,
   "metadata": {},
   "outputs": [],
   "source": []
  },
  {
   "cell_type": "code",
   "execution_count": 45,
   "metadata": {},
   "outputs": [
    {
     "name": "stdout",
     "output_type": "stream",
     "text": [
      "5\n",
      "a\n",
      "a\n",
      "a\n",
      "a\n",
      "a\n",
      "4\n",
      "5 3 2 1 "
     ]
    }
   ],
   "source": [
    "n=int(input())\n",
    "problem=[]\n",
    "solution=[]\n",
    "cnt=0\n",
    "for i in range(0,n) :\n",
    "    problem.append(input())\n",
    "    solution.append(1);\n",
    "\n",
    "for i in range(0,len(problem)-1) :\n",
    "    for j in range (i+1,len(problem)):\n",
    "        if problem[i]==problem[j] and solution[j]!=0:\n",
    "            solution[i]+=1\n",
    "            solution[j]=0\n",
    "    \n",
    "for i in range(0,n) :\n",
    "    if solution[i]!=0 :\n",
    "        cnt+=1\n",
    "print(cnt)\n",
    "for i in range(0,n) :\n",
    "     if solution[i]!=0 :\n",
    "            print(solution[i],end=' ')\n",
    "        "
   ]
  },
  {
   "cell_type": "code",
   "execution_count": null,
   "metadata": {},
   "outputs": [],
   "source": []
  },
  {
   "cell_type": "code",
   "execution_count": null,
   "metadata": {},
   "outputs": [],
   "source": []
  }
 ],
 "metadata": {
  "kernelspec": {
   "display_name": "Python 3",
   "language": "python",
   "name": "python3"
  }
 },
 "nbformat": 4,
 "nbformat_minor": 4
}
