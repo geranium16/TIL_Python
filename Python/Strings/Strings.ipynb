{
 "cells": [
  {
   "cell_type": "code",
   "execution_count": 34,
   "metadata": {},
   "outputs": [
    {
     "name": "stdout",
     "output_type": "stream",
     "text": [
      "7 21\n",
      "---------.l.---------\n",
      "------.l..l..l.------\n",
      "---.l..l..l..l..l.---\n",
      "-------WELCOME-------\n",
      "---.l..l..l..l..l.---\n",
      "------.l..l..l.------\n",
      "---------.l.---------\n"
     ]
    }
   ],
   "source": [
    "#Designer Door Mat\n",
    "#https://www.hackerrank.com/challenges/designer-door-mat/problem\n",
    "\n",
    "intList=tuple(map(int,input().split()))\n",
    "n=intList[0]\n",
    "m=intList[1]\n",
    "for i in range(0,n//2):\n",
    "    for j in range(0,(m-3-6*i)//2):\n",
    "        print(\"-\",end='')\n",
    "    for j in range(0,1+i*2) :\n",
    "        print(\".l.\",end='')\n",
    "    for j in range(0,(m-3-6*i)//2):\n",
    "        print(\"-\",end='')\n",
    "    print(\"\")\n",
    "    \n",
    "for k in range(0,(m-7)//2):\n",
    "    print(\"-\",end='')\n",
    "print(\"WELCOME\",end='')\n",
    "for k in range(0,(m-7)//2):\n",
    "    print(\"-\",end='')\n",
    "print('')\n",
    "for i in range(1,n//2+1):\n",
    "    for j in range(0,(m-3-6*(n//2-i))//2):\n",
    "        print(\"-\",end='')\n",
    "    for j in range(0,1+(n//2-i)*2) :\n",
    "         print(\".l.\",end='')\n",
    "    for j in range(0,(m-3-6*(n//2-i))//2):\n",
    "        print(\"-\",end='')\n",
    "    print(\"\")"
   ]
  }
 ],
 "metadata": {
  "kernelspec": {
   "display_name": "Python 3",
   "language": "python",
   "name": "python3"
  },
  "language_info": {
   "codemirror_mode": {
    "name": "ipython",
    "version": 3
   },
   "file_extension": ".py",
   "mimetype": "text/x-python",
   "name": "python",
   "nbconvert_exporter": "python",
   "pygments_lexer": "ipython3",
   "version": "3.8.1"
  }
 },
 "nbformat": 4,
 "nbformat_minor": 4
}
