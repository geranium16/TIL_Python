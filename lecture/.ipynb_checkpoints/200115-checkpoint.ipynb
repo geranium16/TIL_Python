{
 "cells": [
  {
   "cell_type": "code",
   "execution_count": 20,
   "metadata": {},
   "outputs": [
    {
     "name": "stdout",
     "output_type": "stream",
     "text": [
      "[('-', 291), ('and', 83), ('for', 63), ('Python', 61), ('the', 42), ('to', 38), ('of', 30), ('The', 28), ('with', 22), ('files', 16), ('in', 14), ('as', 14), ('objects', 14), ('modules', 14), ('interface', 14), ('a', 13), ('', 13), ('library', 13), ('functions', 13), ('Services', 12), ('data', 11), ('Access', 11), ('used', 10), ('Modules', 10), ('Types', 10), ('Constants', 10), ('on', 9), ('write', 9), ('Data', 9), ('access', 9), ('file', 9), ('client', 9), ('is', 8), ('File', 8), ('A', 8), ('module', 8), ('Read', 8), ('support', 8), ('or', 7), ('be', 7), ('Standard', 7), ('Interpreter', 7), ('Lists', 7), ('Tools', 7), ('Exceptions', 7), ('Interface', 7), ('system', 7), ('Built-in', 7), ('Mac', 7), ('OS', 7), ('Support', 7), ('standard', 6), ('from', 6), ('also', 6), ('Functions', 6), ('Objects', 6), ('that', 6), ('parser', 6), ('MIME', 6), ('HTTP', 6), ('protocol', 6), ('many', 5), ('are', 5), ('types', 5), ('Using', 5), ('Interactive', 5), ('More', 5), ('Class', 5), ('Internet', 5), ('by', 5), ('operations', 5), ('Unix', 5), ('database', 5), ('Simple', 5), ('handling', 5), ('Utilities', 5), ('control', 5), ('XML', 5), ('framework', 5), ('an', 4), ('Python’s', 4), ('interpreter', 4), ('programs', 4), ('Reference', 4), ('Argument', 4), ('Output', 4), ('string', 4), ('Syntax', 4), ('Classes', 4), ('Compression', 4), ('Logging', 4), ('Floating', 4), ('Windows', 4), ('classes', 4), ('point', 4), ('Basic', 4), ('algorithm', 4), ('wrapper', 4), ('numbers', 4), ('Generate', 4), ('pickle', 4), ('Generic', 4), ('Encode', 4), ('decode', 4), ('parse', 4), ('configuration', 4), ('handlers', 4), ('socket', 4), ('handler', 4), ('trees', 4), ('server', 4), ('Tk', 4), ('code', 4), ('Specific', 4), ('SGI', 4), ('It', 3), ('it', 3), ('language', 3), ('application', 3), ('most', 3), ('source', 3), ('binary', 3), ('all', 3), ('site', 3), ('C', 3), ('extension', 3), ('tutorial', 3), ('read', 3), ('Language', 3), ('API', 3), ('will', 3), ('you', 3), ('Error', 3), ('Handling', 3), ('Strings', 3), ('Statements', 3), ('Function', 3), ('Defining', 3), ('statement', 3), ('Other', 3), ('Packages', 3), ('Package', 3), ('References', 3), ('Multiple', 3), ('Library', 3), ('Operating', 3), ('System', 3), ('String', 3), ('describes', 3), ('components', 3), ('I/O', 3), ('operating', 3), ('systems', 3), ('Numeric', 3), ('type', 3), ('Common', 3), ('Text', 3), ('base', 3), ('time', 3), ('implementation', 3), ('Mathematical', 3), ('input', 3), ('streams', 3), ('object', 3), ('gzip', 3), ('Parser', 3), ('X', 3), ('message', 3), ('Miscellaneous', 3), ('command', 3), ('password', 3), ('curses', 3), ('threading', 3), ('readline', 3), ('package', 3), ('Manipulate', 3), ('RFC', 3), ('between', 3), ('HTML', 3), ('XML-RPC', 3), ('audio', 3), ('services', 3), ('Debugger', 3), ('execution', 3), ('Abstract', 3), ('utilities', 3), ('routines', 3), ('OSA', 3), ('gl', 3), ('language.', 2), ('efficient', 2), ('but', 2), ('programming.', 2), ('syntax', 2), ('development', 2), ('freely', 2), ('available', 2), ('may', 2), ('contains', 2), ('modules,', 2), ('additional', 2), ('new', 2), ('callable', 2), ('This', 2), ('introduces', 2), ('basic', 2), ('features', 2), ('examples', 2), ('so', 2), ('For', 2), ('Library.', 2), ('more', 2), ('several', 2), ('not', 2), ('every', 2), ('commonly', 2), ('various', 2), ('1.', 2), ('2.', 2), ('3.', 2), ('An', 2), ('Introduction', 2), ('Unicode', 2), ('First', 2), ('Programming', 2), ('4.', 2), ('Control', 2), ('4.1.', 2), ('Arguments', 2), ('Expressions', 2), ('Documentation', 2), ('5.', 2), ('5.1.', 2), ('List', 2), ('Comprehensions', 2), ('5.2.', 2), ('5.3.', 2), ('Sequences', 2), ('5.4.', 2), ('5.5.', 2), ('5.6.', 2), ('5.7.', 2), ('5.8.', 2), ('6.', 2), ('6.1.', 2), ('scripts', 2), ('Importing', 2), ('7.', 2), ('Input', 2), ('7.1.', 2), ('Formatting', 2), ('formatting', 2), ('7.2.', 2), ('Reading', 2), ('Writing', 2), ('json', 2), ('8.', 2), ('Errors', 2), ('8.1.', 2), ('8.2.', 2), ('8.3.', 2), ('8.4.', 2), ('8.5.', 2), ('8.6.', 2), ('Clean-up', 2), ('Actions', 2), ('8.7.', 2), ('9.', 2), ('9.1.', 2), ('Names', 2), ('9.2.', 2), ('9.3.', 2), ('9.4.', 2), ('Random', 2), ('9.5.', 2), ('Inheritance', 2), ('9.6.', 2), ('9.7.', 2), ('9.8.', 2), ('9.9.', 2), ('10.', 2), ('Brief', 2), ('Tour', 2), ('10.1.', 2), ('10.2.', 2), ('10.3.', 2), ('Line', 2), ('10.4.', 2), ('Program', 2), ('10.5.', 2), ('10.6.', 2), ('10.7.', 2), ('10.8.', 2), ('10.9.', 2), ('10.10.', 2), ('10.11.', 2), ('10.12.', 2), ('11.', 2), ('11.1.', 2), ('11.2.', 2), ('11.3.', 2), ('Working', 2), ('11.4.', 2), ('11.5.', 2), ('11.6.', 2), ('Weak', 2), ('11.7.', 2), ('11.8.', 2), ('Decimal', 2), ('Point', 2), ('12.', 2), ('13.', 2), ('Editing', 2), ('History', 2), ('Substitution', 2), ('13.1.', 2), ('13.2.', 2), ('13.3.', 2), ('13.4.', 2), ('14.', 2), ('Limitations', 2), ('14.1.', 2), ('some', 2), ('optional', 2), ('built-in', 2), ('provide', 2), ('into', 2), ('platform', 2), ('entire', 2), ('components.', 2), ('provided', 2), ('collection', 2), ('tools', 2), ('packages', 2), ('Testing', 2), ('Comparisons', 2), ('complex', 2), ('Set', 2), ('Manager', 2), ('strings', 2), ('StringIO', 2), ('registry', 2), ('conversions', 2), ('collections', 2), ('queue', 2), ('class', 2), ('runtime', 2), ('copy', 2), ('Directory', 2), ('pathname', 2), ('lines', 2), ('style', 2), ('pattern', 2), ('manipulation', 2), ('serialization', 2), ('DBM-style', 2), ('databases', 2), ('DBM', 2), ('dbm', 2), ('Portable', 2), ('compatible', 2), ('archives', 2), ('netrc', 2), ('processing', 2), ('digest', 2), ('interfaces', 2), ('line', 2), ('options', 2), ('logging', 2), ('Terminal', 2), ('ASCII', 2), ('stack', 2), ('errno', 2), ('function', 2), ('thread', 2), ('Drop-in', 2), ('replacement', 2), ('GNU', 2), ('management', 2), ('Asynchronous', 2), ('email', 2), ('mailboxes', 2), ('parsing', 2), ('messages', 2), ('mail', 2), ('Parse', 2), ('Processing', 2), ('DOM', 2), ('parsers', 2), ('Base', 2), ('SAX', 2), ('Open', 2), ('URLs', 2), ('SMTP', 2), ('request', 2), ('Cookie', 2), ('Multimedia', 2), ('raw', 2), ('image', 2), ('Sun', 2), ('Determine', 2), ('Internationalization', 2), ('Graphical', 2), ('User', 2), ('widgets', 2), ('Extension', 2), ('3', 2), ('tests', 2), ('information', 2), ('script', 2), ('traceback', 2), ('hook', 2), ('user', 2), ('Compile', 2), ('Restricted', 2), ('Convenience', 2), ('Import', 2), ('symbol', 2), ('MS', 2), ('POSIX', 2), ('calls', 2), ('tty', 2), ('fcntl', 2), ('syslog', 2), ('commands', 2), ('specific', 2), ('AppleEvent', 2), ('al', 2), ('fl', 2), ('FORMS', 2), ('sunaudiodev', 2), ('Undocumented', 2), ('easy', 1), ('learn,', 1), ('powerful', 1), ('programming', 1), ('has', 1), ('high-level', 1), ('structures', 1), ('simple', 1), ('effective', 1), ('approach', 1), ('object-oriented', 1), ('elegant', 1), ('dynamic', 1), ('typing,', 1), ('together', 1), ('its', 1), ('interpreted', 1), ('nature,', 1), ('make', 1), ('ideal', 1), ('scripting', 1), ('rapid', 1), ('areas', 1), ('platforms.', 1), ('extensive', 1), ('form', 1), ('major', 1), ('platforms', 1), ('Web', 1), ('site,', 1), ('http://www.python.org/,', 1), ('distributed.', 1), ('same', 1), ('distributions', 1), ('pointers', 1), ('free', 1), ('third', 1), ('party', 1), ('tools,', 1), ('documentation.', 1), ('easily', 1), ('extended', 1), ('implemented', 1), ('C++', 1), ('(or', 1), ('other', 1), ('languages', 1), ('C).', 1), ('suitable', 1), ('customizable', 1), ('applications.', 1), ('reader', 1), ('informally', 1), ('concepts', 1), ('system.', 1), ('helps', 1), ('have', 1), ('handy', 1), ('hands-on', 1), ('experience,', 1), ('self-contained,', 1), ('can', 1), ('off-line', 1), ('well.', 1), ('description', 1), ('see', 1), ('gives', 1), ('formal', 1), ('definition', 1), ('To', 1), ('extensions', 1), ('C++,', 1), ('Extending', 1), ('Embedding', 1), ('Python/C', 1), ('Manual.', 1), ('There', 1), ('books', 1), ('covering', 1), ('depth.', 1), ('does', 1), ('attempt', 1), ('comprehensive', 1), ('cover', 1), ('single', 1), ('feature,', 1), ('even', 1), ('feature.', 1), ('Instead,', 1), ('noteworthy', 1), ('features,', 1), ('give', 1), ('good', 1), ('idea', 1), ('language’s', 1), ('flavor', 1), ('style.', 1), ('After', 1), ('reading', 1), ('it,', 1), ('able', 1), ('programs,', 1), ('ready', 1), ('learn', 1), ('about', 1), ('described', 1), ('Glossary', 1), ('worth', 1), ('going', 1), ('through.', 1), ('Whetting', 1), ('Your', 1), ('Appetite', 1), ('2.1.', 1), ('Invoking', 1), ('2.1.1.', 1), ('Passing', 1), ('2.1.2.', 1), ('Mode', 1), ('2.2.', 1), ('Its', 1), ('Environment', 1), ('2.2.1.', 1), ('2.2.2.', 1), ('Executable', 1), ('Scripts', 1), ('2.2.3.', 1), ('Source', 1), ('Code', 1), ('Encoding', 1), ('2.2.4.', 1), ('Startup', 1), ('2.2.5.', 1), ('Customization', 1), ('Informal', 1), ('3.1.', 1), ('Calculator', 1), ('3.1.1.', 1), ('Numbers', 1), ('3.1.2.', 1), ('3.1.3.', 1), ('3.1.4.', 1), ('3.2.', 1), ('Steps', 1), ('Towards', 1), ('Flow', 1), ('if', 1), ('4.2.', 1), ('4.3.', 1), ('range()', 1), ('4.4.', 1), ('break', 1), ('continue', 1), ('Statements,', 1), ('else', 1), ('Clauses', 1), ('Loops', 1), ('4.5.', 1), ('pass', 1), ('4.6.', 1), ('4.7.', 1), ('4.7.1.', 1), ('Default', 1), ('Values', 1), ('4.7.2.', 1), ('Keyword', 1), ('4.7.3.', 1), ('Arbitrary', 1), ('4.7.4.', 1), ('Unpacking', 1), ('4.7.5.', 1), ('Lambda', 1), ('4.7.6.', 1), ('4.8.', 1), ('Intermezzo:', 1), ('Coding', 1), ('Style', 1), ('Structures', 1), ('5.1.1.', 1), ('Stacks', 1), ('5.1.2.', 1), ('Queues', 1), ('5.1.3.', 1), ('Functional', 1), ('5.1.4.', 1), ('5.1.4.1.', 1), ('Nested', 1), ('del', 1), ('Tuples', 1), ('Sets', 1), ('Dictionaries', 1), ('Looping', 1), ('Techniques', 1), ('Conditions', 1), ('Comparing', 1), ('6.1.1.', 1), ('Executing', 1), ('6.1.2.', 1), ('Module', 1), ('Search', 1), ('Path', 1), ('6.1.3.', 1), ('“Compiled”', 1), ('6.2.', 1), ('6.3.', 1), ('dir()', 1), ('6.4.', 1), ('6.4.1.', 1), ('*', 1), ('From', 1), ('6.4.2.', 1), ('Intra-package', 1), ('6.4.3.', 1), ('Directories', 1), ('Fancier', 1), ('7.1.1.', 1), ('Old', 1), ('Files', 1), ('7.2.1.', 1), ('Methods', 1), ('7.2.2.', 1), ('Saving', 1), ('structured', 1), ('Raising', 1), ('User-defined', 1), ('Predefined', 1), ('Word', 1), ('About', 1), ('Scopes', 1), ('Namespaces', 1), ('Look', 1), ('at', 1), ('9.3.1.', 1), ('Definition', 1), ('9.3.2.', 1), ('9.3.3.', 1), ('Instance', 1), ('9.3.4.', 1), ('Method', 1), ('Remarks', 1), ('9.5.1.', 1), ('Private', 1), ('Variables', 1), ('Class-local', 1), ('Odds', 1), ('Ends', 1), ('Are', 1), ('Too', 1), ('Iterators', 1), ('9.10.', 1), ('Generators', 1), ('9.11.', 1), ('Generator', 1), ('Wildcards', 1), ('Command', 1), ('Redirection', 1), ('Termination', 1), ('Pattern', 1), ('Matching', 1), ('Mathematics', 1), ('Dates', 1), ('Times', 1), ('Performance', 1), ('Measurement', 1), ('Quality', 1), ('Batteries', 1), ('Included', 1), ('Part', 1), ('II', 1), ('Templating', 1), ('Binary', 1), ('Record', 1), ('Layouts', 1), ('Multi-threading', 1), ('Arithmetic', 1), ('What', 1), ('Now-', 1), ('Key', 1), ('Bindings', 1), ('Alternatives', 1), ('Arithmetic:', 1), ('Issues', 1), ('Representation', 1), ('While', 1), ('exact', 1), ('semantics', 1), ('language,', 1), ('this', 1), ('reference', 1), ('manual', 1), ('distributed', 1), ('Python.', 1), ('included', 1), ('distributions.', 1), ('very', 1), ('extensive,', 1), ('offering', 1), ('wide', 1), ('range', 1), ('facilities', 1), ('indicated', 1), ('long', 1), ('table', 1), ('contents', 1), ('listed', 1), ('below.', 1), ('(written', 1), ('C)', 1), ('functionality', 1), ('such', 1), ('would', 1), ('otherwise', 1), ('inaccessible', 1), ('programmers,', 1), ('well', 1), ('written', 1), ('standardized', 1), ('solutions', 1), ('problems', 1), ('occur', 1), ('everyday', 1), ('Some', 1), ('these', 1), ('explicitly', 1), ('designed', 1), ('encourage', 1), ('enhance', 1), ('portability', 1), ('abstracting', 1), ('away', 1), ('platform-specifics', 1), ('platform-neutral', 1), ('APIs.', 1), ('installers', 1), ('usually', 1), ('includes', 1), ('often', 1), ('include', 1), ('Unix-like', 1), ('normally', 1), ('packages,', 1), ('necessary', 1), ('use', 1), ('packaging', 1), ('obtain', 1), ('In', 1), ('addition', 1), ('library,', 1), ('there', 1), ('growing', 1), ('thousand', 1), ('(from', 1), ('individual', 1), ('frameworks),', 1), ('Index.', 1), ('Non-essential', 1), ('added', 1), ('Truth', 1), ('Value', 1), ('Boolean', 1), ('Operations', 1), ('and,', 1), ('or,', 1), ('int,', 1), ('float,', 1), ('long,', 1), ('Iterator', 1), ('Sequence', 1), ('str,', 1), ('unicode,', 1), ('list,', 1), ('tuple,', 1), ('bytearray,', 1), ('buffer,', 1), ('xrange', 1), ('set,', 1), ('frozenset', 1), ('Mapping', 1), ('dict', 1), ('5.9.', 1), ('5.10.', 1), ('memoryview', 1), ('5.11.', 1), ('Context', 1), ('5.12.', 1), ('5.13.', 1), ('Special', 1), ('Attributes', 1), ('Exception', 1), ('hierarchy', 1), ('re', 1), ('Regular', 1), ('expression', 1), ('7.3.', 1), ('struct', 1), ('Interpret', 1), ('packed', 1), ('7.4.', 1), ('difflib', 1), ('Helpers', 1), ('computing', 1), ('deltas', 1), ('7.5.', 1), ('7.6.', 1), ('cStringIO', 1), ('Faster', 1), ('version', 1), ('7.7.', 1), ('textwrap', 1), ('wrapping', 1), ('filling', 1), ('7.8.', 1), ('codecs', 1), ('Codec', 1), ('7.9.', 1), ('unicodedata', 1), ('Database', 1), ('7.10.', 1), ('stringprep', 1), ('Preparation', 1), ('7.11.', 1), ('fpformat', 1), ('datetime', 1), ('date', 1), ('calendar', 1), ('General', 1), ('calendar-related', 1), ('High-performance', 1), ('container', 1), ('datatypes', 1), ('heapq', 1), ('Heap', 1), ('bisect', 1), ('Array', 1), ('bisection', 1), ('array', 1), ('Efficient', 1), ('arrays', 1), ('numeric', 1), ('values', 1), ('sets', 1), ('Unordered', 1), ('unique', 1), ('elements', 1), ('8.8.', 1), ('sched', 1), ('Event', 1), ('scheduler', 1), ('8.9.', 1), ('mutex', 1), ('Mutual', 1), ('exclusion', 1), ('8.10.', 1), ('Queue', 1), ('synchronized', 1), ('8.11.', 1), ('weakref', 1), ('references', 1), ('8.12.', 1), ('UserDict', 1), ('dictionary', 1), ('8.13.', 1), ('UserList', 1), ('list', 1), ('8.14.', 1), ('UserString', 1), ('8.15.', 1), ('8.16.', 1), ('Creation', 1), ('internal', 1), ('8.17.', 1), ('Shallow', 1), ('deep', 1), ('8.18.', 1), ('pprint', 1), ('pretty', 1), ('printer', 1), ('8.19.', 1), ('repr', 1), ('Alternate', 1), ('repr()', 1), ('abstract', 1), ('math', 1), ('cmath', 1), ('decimal', 1), ('fixed', 1), ('floating', 1), ('arithmetic', 1), ('fractions', 1), ('Rational', 1), ('random', 1), ('pseudo-random', 1), ('itertools', 1), ('creating', 1), ('iterators', 1), ('looping', 1), ('functools', 1), ('Higher-order', 1), ('operator', 1), ('operators', 1), ('os.path', 1), ('manipulations', 1), ('fileinput', 1), ('Iterate', 1), ('over', 1), ('multiple', 1), ('stat', 1), ('Interpreting', 1), ('stat()', 1), ('results', 1), ('statvfs', 1), ('os.statvfs()', 1), ('filecmp', 1), ('tempfile', 1), ('temporary', 1), ('directories', 1), ('glob', 1), ('expansion', 1), ('fnmatch', 1), ('filename', 1), ('matching', 1), ('linecache', 1), ('text', 1), ('shutil', 1), ('High-level', 1), ('dircache', 1), ('Cached', 1), ('directory', 1), ('listings', 1), ('macpath', 1), ('9', 1), ('path', 1), ('Persistence', 1), ('cPickle', 1), ('faster', 1), ('copy_reg', 1), ('Register', 1), ('shelve', 1), ('persistence', 1), ('marshal', 1), ('Internal', 1), ('anydbm', 1), ('whichdb', 1), ('Guess', 1), ('which', 1), ('created', 1), ('“database”', 1), ('11.9.', 1), ('gdbm', 1), ('GNU’s', 1), ('reinterpretation', 1), ('11.10.', 1), ('dbhash', 1), ('BSD', 1), ('11.11.', 1), ('bsddb', 1), ('Berkeley', 1), ('DB', 1), ('11.12.', 1), ('dumbdbm', 1), ('11.13.', 1), ('sqlite3', 1), ('DB-API', 1), ('2.0', 1), ('SQLite', 1), ('Archiving', 1), ('12.1.', 1), ('zlib', 1), ('12.2.', 1), ('12.3.', 1), ('bz2', 1), ('bzip2', 1), ('12.4.', 1), ('zipfile', 1), ('Work', 1), ('ZIP', 1), ('12.5.', 1), ('tarfile', 1), ('tar', 1), ('archive', 1), ('Formats', 1), ('csv', 1), ('CSV', 1), ('ConfigParser', 1), ('Configuration', 1), ('robotparser', 1), ('robots.txt', 1), ('13.5.', 1), ('xdrlib', 1), ('XDR', 1), ('13.6.', 1), ('plistlib', 1), ('.plist', 1), ('Cryptographic', 1), ('hashlib', 1), ('Secure', 1), ('hashes', 1), ('digests', 1), ('14.2.', 1), ('hmac', 1), ('Keyed-Hashing', 1), ('Message', 1), ('Authentication', 1), ('14.3.', 1), ('md5', 1), ('MD5', 1), ('14.4.', 1), ('sha', 1), ('SHA-1', 1), ('15.', 1), ('15.1.', 1), ('os', 1), ('15.2.', 1), ('io', 1), ('Core', 1), ('working', 1), ('15.3.', 1), ('Time', 1), ('15.4.', 1), ('argparse', 1), ('command-line', 1), ('options,', 1), ('arguments', 1), ('sub-commands', 1), ('15.5.', 1), ('optparse', 1), ('15.6.', 1), ('getopt', 1), ('C-style', 1), ('15.7.', 1), ('facility', 1), ('15.8.', 1), ('logging.config', 1), ('15.9.', 1), ('logging.handlers', 1), ('15.10.', 1), ('getpass', 1), ('15.11.', 1), ('character-cell', 1), ('displays', 1), ('15.12.', 1), ('curses.textpad', 1), ('widget', 1), ('15.13.', 1), ('curses.ascii', 1), ('characters', 1), ('15.14.', 1), ('curses.panel', 1), ('panel', 1), ('15.15.', 1), ('underlying', 1), ('platform’s', 1), ('identifying', 1), ('15.16.', 1), ('symbols', 1), ('15.17.', 1), ('ctypes', 1), ('foreign', 1), ('16.', 1), ('Optional', 1), ('16.1.', 1), ('select', 1), ('Waiting', 1), ('completion', 1), ('16.2.', 1), ('Higher-level', 1), ('16.3.', 1), ('threads', 1), ('16.4.', 1), ('dummy_threading', 1), ('16.5.', 1), ('dummy_thread', 1), ('16.6.', 1), ('multiprocessing', 1), ('Process-based', 1), ('“threading”', 1), ('16.7.', 1), ('mmap', 1), ('Memory-mapped', 1), ('16.8.', 1), ('16.9.', 1), ('rlcompleter', 1), ('Completion', 1), ('17.', 1), ('Interprocess', 1), ('Communication', 1), ('Networking', 1), ('17.1.', 1), ('subprocess', 1), ('Subprocess', 1), ('17.2.', 1), ('Low-level', 1), ('networking', 1), ('17.3.', 1), ('ssl', 1), ('TLS/SSL', 1), ('17.4.', 1), ('signal', 1), ('asynchronous', 1), ('events', 1), ('17.5.', 1), ('popen2', 1), ('Subprocesses', 1), ('accessible', 1), ('17.6.', 1), ('asyncore', 1), ('17.7.', 1), ('asynchat', 1), ('command/response', 1), ('18.', 1), ('18.1.', 1), ('18.2.', 1), ('JSON', 1), ('encoder', 1), ('decoder', 1), ('18.3.', 1), ('mailcap', 1), ('Mailcap', 1), ('18.4.', 1), ('mailbox', 1), ('formats', 1), ('18.5.', 1), ('mhlib', 1), ('MH', 1), ('18.6.', 1), ('mimetools', 1), ('18.7.', 1), ('mimetypes', 1), ('Map', 1), ('filenames', 1), ('18.8.', 1), ('MimeWriter', 1), ('writer', 1), ('18.9.', 1), ('mimify', 1), ('18.10.', 1), ('multifile', 1), ('containing', 1), ('distinct', 1), ('parts', 1), ('18.11.', 1), ('rfc822', 1), ('2822', 1), ('headers', 1), ('18.12.', 1), ('base64', 1), ('3548:', 1), ('Base16,', 1), ('Base32,', 1), ('Base64', 1), ('Encodings', 1), ('18.13.', 1), ('binhex', 1), ('binhex4', 1), ('18.14.', 1), ('binascii', 1), ('Convert', 1), ('18.15.', 1), ('quopri', 1), ('quoted-printable', 1), ('18.16.', 1), ('uu', 1), ('uuencode', 1), ('19.', 1), ('Structured', 1), ('Markup', 1), ('19.1.', 1), ('HTMLParser', 1), ('XHTML', 1), ('19.2.', 1), ('sgmllib', 1), ('SGML', 1), ('19.3.', 1), ('htmllib', 1), ('documents', 1), ('19.4.', 1), ('htmlentitydefs', 1), ('Definitions', 1), ('general', 1), ('entities', 1), ('19.5.', 1), ('19.6.', 1), ('vulnerabilities', 1), ('19.7.', 1), ('xml.etree.ElementTree', 1), ('ElementTree', 1), ('19.8.', 1), ('xml.dom', 1), ('Document', 1), ('Object', 1), ('Model', 1), ('19.9.', 1), ('xml.dom.minidom', 1), ('Minimal', 1), ('19.10.', 1), ('xml.dom.pulldom', 1), ('building', 1), ('partial', 1), ('19.11.', 1), ('xml.sax', 1), ('SAX2', 1), ('19.12.', 1), ('xml.sax.handler', 1), ('19.13.', 1), ('xml.sax.saxutils', 1), ('19.14.', 1), ('xml.sax.xmlreader', 1), ('19.15.', 1), ('xml.parsers.expat', 1), ('Fast', 1), ('using', 1), ('Expat', 1), ('20.', 1), ('Protocols', 1), ('20.1.', 1), ('webbrowser', 1), ('Convenient', 1), ('Web-browser', 1), ('controller', 1), ('20.2.', 1), ('cgi', 1), ('Gateway', 1), ('20.3.', 1), ('cgitb', 1), ('Traceback', 1), ('manager', 1), ('CGI', 1), ('20.4.', 1), ('wsgiref', 1), ('WSGI', 1), ('Implementation', 1), ('20.5.', 1), ('urllib', 1), ('arbitrary', 1), ('resources', 1), ('URL', 1), ('20.6.', 1), ('urllib2', 1), ('extensible', 1), ('opening', 1), ('20.7.', 1), ('httplib', 1), ('20.8.', 1), ('ftplib', 1), ('FTP', 1), ('20.9.', 1), ('poplib', 1), ('POP3', 1), ('20.10.', 1), ('imaplib', 1), ('IMAP4', 1), ('20.11.', 1), ('nntplib', 1), ('NNTP', 1), ('20.12.', 1), ('smtplib', 1), ('20.13.', 1), ('smtpd', 1), ('Server', 1), ('20.14.', 1), ('telnetlib', 1), ('Telnet', 1), ('20.15.', 1), ('uuid', 1), ('UUID', 1), ('according', 1), ('4122', 1), ('20.16.', 1), ('urlparse', 1), ('20.17.', 1), ('SocketServer', 1), ('network', 1), ('servers', 1), ('20.18.', 1), ('BaseHTTPServer', 1), ('20.19.', 1), ('SimpleHTTPServer', 1), ('20.20.', 1), ('CGIHTTPServer', 1), ('CGI-capable', 1), ('20.21.', 1), ('cookielib', 1), ('clients', 1), ('20.22.', 1), ('state', 1), ('20.23.', 1), ('xmlrpclib', 1), ('20.24.', 1), ('SimpleXMLRPCServer', 1), ('20.25.', 1), ('DocXMLRPCServer', 1), ('Self-documenting', 1), ('21.', 1), ('21.1.', 1), ('audioop', 1), ('21.2.', 1), ('imageop', 1), ('21.3.', 1), ('aifc', 1), ('AIFF', 1), ('AIFC', 1), ('21.4.', 1), ('sunau', 1), ('AU', 1), ('21.5.', 1), ('wave', 1), ('WAV', 1), ('21.6.', 1), ('chunk', 1), ('IFF', 1), ('chunked', 1), ('21.7.', 1), ('colorsys', 1), ('Conversions', 1), ('color', 1), ('21.8.', 1), ('imghdr', 1), ('21.9.', 1), ('sndhdr', 1), ('sound', 1), ('21.10.', 1), ('ossaudiodev', 1), ('OSS-compatible', 1), ('devices', 1), ('22.', 1), ('22.1.', 1), ('gettext', 1), ('Multilingual', 1), ('internationalization', 1), ('22.2.', 1), ('locale', 1), ('23.', 1), ('Frameworks', 1), ('23.1.', 1), ('cmd', 1), ('line-oriented', 1), ('interpreters', 1), ('23.2.', 1), ('shlex', 1), ('lexical', 1), ('analysis', 1), ('24.', 1), ('Interfaces', 1), ('24.1.', 1), ('Tkinter', 1), ('Tcl/Tk', 1), ('24.2.', 1), ('ttk', 1), ('themed', 1), ('24.3.', 1), ('Tix', 1), ('24.4.', 1), ('ScrolledText', 1), ('Scrolled', 1), ('Widget', 1), ('24.5.', 1), ('turtle', 1), ('Turtle', 1), ('graphics', 1), ('24.6.', 1), ('IDLE', 1), ('24.7.', 1), ('25.', 1), ('Development', 1), ('25.1.', 1), ('pydoc', 1), ('generator', 1), ('online', 1), ('help', 1), ('25.2.', 1), ('doctest', 1), ('Test', 1), ('interactive', 1), ('25.3.', 1), ('unittest', 1), ('Unit', 1), ('testing', 1), ('25.4.', 1), ('2to3', 1), ('Automated', 1), ('2', 1), ('translation', 1), ('25.5.', 1), ('test', 1), ('Regression', 1), ('25.6.', 1), ('test.test_support', 1), ('Utility', 1), ('26.', 1), ('Debugging', 1), ('Profiling', 1), ('26.1.', 1), ('bdb', 1), ('26.2.', 1), ('pdb', 1), ('26.3.', 1), ('Commands', 1), ('26.4.', 1), ('Profilers', 1), ('26.5.', 1), ('hotshot', 1), ('High', 1), ('performance', 1), ('profiler', 1), ('26.6.', 1), ('timeit', 1), ('Measure', 1), ('small', 1), ('snippets', 1), ('26.7.', 1), ('trace', 1), ('Trace', 1), ('track', 1), ('27.', 1), ('Runtime', 1), ('27.1.', 1), ('sys', 1), ('System-specific', 1), ('parameters', 1), ('27.2.', 1), ('sysconfig', 1), ('Provide', 1), ('27.3.', 1), ('__builtin__', 1), ('27.4.', 1), ('future_builtins', 1), ('builtins', 1), ('27.5.', 1), ('__main__', 1), ('Top-level', 1), ('environment', 1), ('27.6.', 1), ('warnings', 1), ('Warning', 1), ('27.7.', 1), ('contextlib', 1), ('with-statement', 1), ('contexts', 1), ('27.8.', 1), ('abc', 1), ('27.9.', 1), ('atexit', 1), ('Exit', 1), ('27.10.', 1), ('Print', 1), ('retrieve', 1), ('27.11.', 1), ('__future__', 1), ('Future', 1), ('definitions', 1), ('27.12.', 1), ('gc', 1), ('Garbage', 1), ('Collector', 1), ('27.13.', 1), ('inspect', 1), ('Inspect', 1), ('live', 1), ('27.14.', 1), ('Site-specific', 1), ('27.15.', 1), ('User-specific', 1), ('27.16.', 1), ('fpectl', 1), ('exception', 1), ('27.17.', 1), ('distutils', 1), ('Building', 1), ('installing', 1), ('28.', 1), ('Custom', 1), ('Interpreters', 1), ('28.1.', 1), ('28.2.', 1), ('codeop', 1), ('29.', 1), ('Execution', 1), ('29.1.', 1), ('rexec', 1), ('29.2.', 1), ('Bastion', 1), ('Restricting', 1), ('30.', 1), ('30.1.', 1), ('imp', 1), ('import', 1), ('internals', 1), ('30.2.', 1), ('importlib', 1), ('wrappers', 1), ('__import__()', 1), ('30.3.', 1), ('imputil', 1), ('30.4.', 1), ('zipimport', 1), ('Zip', 1), ('30.5.', 1), ('pkgutil', 1), ('utility', 1), ('30.6.', 1), ('modulefinder', 1), ('Find', 1), ('30.7.', 1), ('runpy', 1), ('Locating', 1), ('executing', 1), ('31.', 1), ('31.1.', 1), ('31.2.', 1), ('ast', 1), ('Trees', 1), ('31.3.', 1), ('symtable', 1), ('compiler’s', 1), ('tables', 1), ('31.4.', 1), ('31.5.', 1), ('token', 1), ('31.6.', 1), ('keyword', 1), ('keywords', 1), ('31.7.', 1), ('tokenize', 1), ('Tokenizer', 1), ('31.8.', 1), ('tabnanny', 1), ('Detection', 1), ('ambiguous', 1), ('indentation', 1), ('31.9.', 1), ('pyclbr', 1), ('browser', 1), ('31.10.', 1), ('py_compile', 1), ('31.11.', 1), ('compileall', 1), ('Byte-compile', 1), ('libraries', 1), ('31.12.', 1), ('dis', 1), ('Disassembler', 1), ('bytecode', 1), ('31.13.', 1), ('pickletools', 1), ('developers', 1), ('32.', 1), ('compiler', 1), ('32.1.', 1), ('32.2.', 1), ('32.3.', 1), ('32.4.', 1), ('Visitors', 1), ('Walk', 1), ('ASTs', 1), ('32.5.', 1), ('Bytecode', 1), ('Generation', 1), ('33.', 1), ('33.1.', 1), ('formatter', 1), ('output', 1), ('34.', 1), ('34.1.', 1), ('msilib', 1), ('Microsoft', 1), ('Installer', 1), ('34.2.', 1), ('msvcrt', 1), ('Useful', 1), ('VC++', 1), ('34.3.', 1), ('_winreg', 1), ('34.4.', 1), ('winsound', 1), ('Sound-playing', 1), ('35.', 1), ('35.1.', 1), ('posix', 1), ('common', 1), ('35.2.', 1), ('pwd', 1), ('35.3.', 1), ('spwd', 1), ('shadow', 1), ('35.4.', 1), ('grp', 1), ('group', 1), ('35.5.', 1), ('crypt', 1), ('check', 1), ('passwords', 1), ('35.6.', 1), ('dl', 1), ('Call', 1), ('shared', 1), ('35.7.', 1), ('termios', 1), ('35.8.', 1), ('35.9.', 1), ('pty', 1), ('Pseudo-terminal', 1), ('35.10.', 1), ('ioctl', 1), ('35.11.', 1), ('pipes', 1), ('shell', 1), ('pipelines', 1), ('35.12.', 1), ('posixfile', 1), ('File-like', 1), ('locking', 1), ('35.13.', 1), ('resource', 1), ('Resource', 1), ('usage', 1), ('35.14.', 1), ('nis', 1), ('Sun’s', 1), ('NIS', 1), ('(Yellow', 1), ('Pages)', 1), ('35.15.', 1), ('35.16.', 1), ('running', 1), ('36.', 1), ('36.1.', 1), ('ic', 1), ('Config', 1), ('36.2.', 1), ('MacOS', 1), ('36.3.', 1), ('macostools', 1), ('36.4.', 1), ('findertools', 1), ('finder‘s', 1), ('Apple', 1), ('Events', 1), ('36.5.', 1), ('EasyDialogs', 1), ('Macintosh', 1), ('dialogs', 1), ('36.6.', 1), ('FrameWork', 1), ('36.7.', 1), ('autoGIL', 1), ('Global', 1), ('Lock', 1), ('event', 1), ('loops', 1), ('36.8.', 1), ('Toolbox', 1), ('36.9.', 1), ('ColorPicker', 1), ('Color', 1), ('selection', 1), ('dialog', 1), ('37.', 1), ('MacPython', 1), ('37.1.', 1), ('gensuitemodule', 1), ('stub', 1), ('37.2.', 1), ('aetools', 1), ('37.3.', 1), ('aepack', 1), ('Conversion', 1), ('variables', 1), ('containers', 1), ('37.4.', 1), ('aetypes', 1), ('37.5.', 1), ('MiniAEFrame', 1), ('Scripting', 1), ('Architecture', 1), ('38.', 1), ('IRIX', 1), ('38.1.', 1), ('Audio', 1), ('38.2.', 1), ('AL', 1), ('38.3.', 1), ('cd', 1), ('CD-ROM', 1), ('38.4.', 1), ('graphical', 1), ('38.5.', 1), ('FL', 1), ('38.6.', 1), ('flp', 1), ('loading', 1), ('stored', 1), ('designs', 1), ('38.7.', 1), ('fm', 1), ('Font', 1), ('38.8.', 1), ('Graphics', 1), ('38.9.', 1), ('DEVICE', 1), ('38.10.', 1), ('GL', 1), ('38.11.', 1), ('imgfile', 1), ('imglib', 1), ('38.12.', 1), ('jpeg', 1), ('JPEG', 1), ('39.', 1), ('SunOS', 1), ('39.1.', 1), ('hardware', 1), ('39.2.', 1), ('SUNAUDIODEV', 1), ('40.', 1), ('40.1.', 1), ('useful', 1), ('40.2.', 1), ('Platform', 1), ('40.3.', 1), ('40.4.', 1), ('40.5.', 1), ('Obsolete', 1), ('40.6.', 1), ('SGI-specific', 1)]\n"
     ]
    }
   ],
   "source": [
    "import operator \n",
    "file=open('/Users/DaeHyeon/PythonStudy/lecture/dict.txt','rt')\n",
    "text=file.read()\n",
    "text=text.replace('\\n',' ')\n",
    "words=text.split(' ')\n",
    "# shift+ctrl+- 로 분리가능\n",
    "# shift+m : 합침 안됨\n",
    "word_dict=dict()\n",
    "for word in words:\n",
    "    if word in word_dict:\n",
    "        word_dict[word]=word_dict[word]+1\n",
    "    else:\n",
    "        word_dict[word]=1\n",
    "word_list=sorted(word_dict.items(),key=operator.itemgetter(1),reverse=True) #sorted는 기본적으로 key를 기준으로 정렬\n",
    "#itemas = 튜플을 저장하는 리스트\n",
    "#인덱스 [1]인 녀석 즉, value값을 기준으로 정렬\n",
    "print(word_list)\n",
    "#print(word_dict)"
   ]
  },
  {
   "cell_type": "code",
   "execution_count": 23,
   "metadata": {},
   "outputs": [
    {
     "name": "stdout",
     "output_type": "stream",
     "text": [
      "[Errno 2] No such file or directory: 'text.txt' 예외발생\n",
      "\n"
     ]
    }
   ],
   "source": [
    "#6-1\n",
    "# 파일의 내용을 읽어오기 위한 아래의 코드를\n",
    "# 예외처리 구문을 이용하여 결과와 같이 나올 수 있도록 수정\n",
    "try:\n",
    "    file =open('text.txt','r')\n",
    "except FileNotFoundError as e:\n",
    "    print(e,'예외발생')\n",
    "text=file.read()\n",
    "print(text)\n"
   ]
  },
  {
   "cell_type": "code",
   "execution_count": 26,
   "metadata": {},
   "outputs": [
    {
     "name": "stdout",
     "output_type": "stream",
     "text": [
      "Python is an easy to learn, powerful programming language. It has efficient high-level data structures and a simple but effective approach to object-oriented programming. Python’s elegant syntax and dynamic typing, together with its interpreted nature, make it an ideal language for scripting and rapid application development in many areas on most platforms.\n",
      "\n",
      "The Python interpreter and the extensive standard library are freely available in source or binary form for all major platforms from the Python Web site, http://www.python.org/, and may be freely distributed. The same site also contains distributions of and pointers to many free third party Python modules, programs and tools, and additional documentation.\n",
      "\n",
      "The Python interpreter is easily extended with new functions and data types implemented in C or C++ (or other languages callable from C). Python is also suitable as an extension language for customizable applications.\n",
      "\n",
      "This tutorial introduces the reader informally to the basic concepts and features of the Python language and system. It helps to have a Python interpreter handy for hands-on experience, but all examples are self-contained, so the tutorial can be read off-line as well.\n",
      "\n",
      "For a description of standard objects and modules, see The Python Standard Library. The Python Language Reference gives a more formal definition of the language. To write extensions in C or C++, read Extending and Embedding the Python Interpreter and Python/C API Reference Manual. There are also several books covering Python in depth.\n",
      "\n",
      "This tutorial does not attempt to be comprehensive and cover every single feature, or even every commonly used feature. Instead, it introduces many of Python’s most noteworthy features, and will give you a good idea of the language’s flavor and style. After reading it, you will be able to read and write Python modules and programs, and you will be ready to learn more about the various Python library modules described in The Python Standard Library.\n",
      "\n",
      "The Glossary is also worth going through.\n",
      "\n",
      "1. Whetting Your Appetite\n",
      "2. Using the Python Interpreter\n",
      "2.1. Invoking the Interpreter\n",
      "2.1.1. Argument Passing\n",
      "2.1.2. Interactive Mode\n",
      "2.2. The Interpreter and Its Environment\n",
      "2.2.1. Error Handling\n",
      "2.2.2. Executable Python Scripts\n",
      "2.2.3. Source Code Encoding\n",
      "2.2.4. The Interactive Startup File\n",
      "2.2.5. The Customization Modules\n",
      "3. An Informal Introduction to Python\n",
      "3.1. Using Python as a Calculator\n",
      "3.1.1. Numbers\n",
      "3.1.2. Strings\n",
      "3.1.3. Unicode Strings\n",
      "3.1.4. Lists\n",
      "3.2. First Steps Towards Programming\n",
      "4. More Control Flow Tools\n",
      "4.1. if Statements\n",
      "4.2. for Statements\n",
      "4.3. The range() Function\n",
      "4.4. break and continue Statements, and else Clauses on Loops\n",
      "4.5. pass Statements\n",
      "4.6. Defining Functions\n",
      "4.7. More on Defining Functions\n",
      "4.7.1. Default Argument Values\n",
      "4.7.2. Keyword Arguments\n",
      "4.7.3. Arbitrary Argument Lists\n",
      "4.7.4. Unpacking Argument Lists\n",
      "4.7.5. Lambda Expressions\n",
      "4.7.6. Documentation Strings\n",
      "4.8. Intermezzo: Coding Style\n",
      "5. Data Structures\n",
      "5.1. More on Lists\n",
      "5.1.1. Using Lists as Stacks\n",
      "5.1.2. Using Lists as Queues\n",
      "5.1.3. Functional Programming Tools\n",
      "5.1.4. List Comprehensions\n",
      "5.1.4.1. Nested List Comprehensions\n",
      "5.2. The del statement\n",
      "5.3. Tuples and Sequences\n",
      "5.4. Sets\n",
      "5.5. Dictionaries\n",
      "5.6. Looping Techniques\n",
      "5.7. More on Conditions\n",
      "5.8. Comparing Sequences and Other Types\n",
      "6. Modules\n",
      "6.1. More on Modules\n",
      "6.1.1. Executing modules as scripts\n",
      "6.1.2. The Module Search Path\n",
      "6.1.3. “Compiled” Python files\n",
      "6.2. Standard Modules\n",
      "6.3. The dir() Function\n",
      "6.4. Packages\n",
      "6.4.1. Importing * From a Package\n",
      "6.4.2. Intra-package References\n",
      "6.4.3. Packages in Multiple Directories\n",
      "7. Input and Output\n",
      "7.1. Fancier Output Formatting\n",
      "7.1.1. Old string formatting\n",
      "7.2. Reading and Writing Files\n",
      "7.2.1. Methods of File Objects\n",
      "7.2.2. Saving structured data with json\n",
      "8. Errors and Exceptions\n",
      "8.1. Syntax Errors\n",
      "8.2. Exceptions\n",
      "8.3. Handling Exceptions\n",
      "8.4. Raising Exceptions\n",
      "8.5. User-defined Exceptions\n",
      "8.6. Defining Clean-up Actions\n",
      "8.7. Predefined Clean-up Actions\n",
      "9. Classes\n",
      "9.1. A Word About Names and Objects\n",
      "9.2. Python Scopes and Namespaces\n",
      "9.3. A First Look at Classes\n",
      "9.3.1. Class Definition Syntax\n",
      "9.3.2. Class Objects\n",
      "9.3.3. Instance Objects\n",
      "9.3.4. Method Objects\n",
      "9.4. Random Remarks\n",
      "9.5. Inheritance\n",
      "9.5.1. Multiple Inheritance\n",
      "9.6. Private Variables and Class-local References\n",
      "9.7. Odds and Ends\n",
      "9.8. Exceptions Are Classes Too\n",
      "9.9. Iterators\n",
      "9.10. Generators\n",
      "9.11. Generator Expressions\n",
      "10. Brief Tour of the Standard Library\n",
      "10.1. Operating System Interface\n",
      "10.2. File Wildcards\n",
      "10.3. Command Line Arguments\n",
      "10.4. Error Output Redirection and Program Termination\n",
      "10.5. String Pattern Matching\n",
      "10.6. Mathematics\n",
      "10.7. Internet Access\n",
      "10.8. Dates and Times\n",
      "10.9. Data Compression\n",
      "10.10. Performance Measurement\n",
      "10.11. Quality Control\n",
      "10.12. Batteries Included\n",
      "11. Brief Tour of the Standard Library - Part II\n",
      "11.1. Output Formatting\n",
      "11.2. Templating\n",
      "11.3. Working with Binary Data Record Layouts\n",
      "11.4. Multi-threading\n",
      "11.5. Logging\n",
      "11.6. Weak References\n",
      "11.7. Tools for Working with Lists\n",
      "11.8. Decimal Floating Point Arithmetic\n",
      "12. What Now-\n",
      "13. Interactive Input Editing and History Substitution\n",
      "13.1. Line Editing\n",
      "13.2. History Substitution\n",
      "13.3. Key Bindings\n",
      "13.4. Alternatives to the Interactive Interpreter\n",
      "14. Floating Point Arithmetic: Issues and Limitations\n",
      "14.1. Representation Error\n",
      "\n",
      "While The Python Language Reference describes the exact syntax and semantics of the Python language, this library reference manual describes the standard library that is distributed with Python. It also describes some of the optional components that are commonly included in Python distributions.\n",
      "\n",
      "Python’s standard library is very extensive, offering a wide range of facilities as indicated by the long table of contents listed below. The library contains built-in modules (written in C) that provide access to system functionality such as file I/O that would otherwise be inaccessible to Python programmers, as well as modules written in Python that provide standardized solutions for many problems that occur in everyday programming. Some of these modules are explicitly designed to encourage and enhance the portability of Python programs by abstracting away platform-specifics into platform-neutral APIs.\n",
      "\n",
      "The Python installers for the Windows platform usually includes the entire standard library and often also include many additional components. For Unix-like operating systems Python is normally provided as a collection of packages, so it may be necessary to use the packaging tools provided with the operating system to obtain some or all of the optional components.\n",
      "\n",
      "In addition to the standard library, there is a growing collection of several thousand components (from individual programs and modules to packages and entire application development frameworks), available from the Python Package Index.\n",
      "\n",
      "1. Introduction\n",
      "2. Built-in Functions\n",
      "3. Non-essential Built-in Functions\n",
      "4. Built-in Constants\n",
      "4.1. Constants added by the site module\n",
      "5. Built-in Types\n",
      "5.1. Truth Value Testing\n",
      "5.2. Boolean Operations - and, or, not\n",
      "5.3. Comparisons\n",
      "5.4. Numeric Types - int, float, long, complex\n",
      "5.5. Iterator Types\n",
      "5.6. Sequence Types - str, unicode, list, tuple, bytearray, buffer, xrange\n",
      "5.7. Set Types - set, frozenset\n",
      "5.8. Mapping Types - dict\n",
      "5.9. File Objects\n",
      "5.10. memoryview type\n",
      "5.11. Context Manager Types\n",
      "5.12. Other Built-in Types\n",
      "5.13. Special Attributes\n",
      "6. Built-in Exceptions\n",
      "6.1. Exception hierarchy\n",
      "7. String Services\n",
      "7.1. string - Common string operations\n",
      "7.2. re - Regular expression operations\n",
      "7.3. struct - Interpret strings as packed binary data\n",
      "7.4. difflib - Helpers for computing deltas\n",
      "7.5. StringIO - Read and write strings as files\n",
      "7.6. cStringIO - Faster version of StringIO\n",
      "7.7. textwrap - Text wrapping and filling\n",
      "7.8. codecs - Codec registry and base classes\n",
      "7.9. unicodedata - Unicode Database\n",
      "7.10. stringprep - Internet String Preparation\n",
      "7.11. fpformat - Floating point conversions\n",
      "8. Data Types\n",
      "8.1. datetime - Basic date and time types\n",
      "8.2. calendar - General calendar-related functions\n",
      "8.3. collections - High-performance container datatypes\n",
      "8.4. heapq - Heap queue algorithm\n",
      "8.5. bisect - Array bisection algorithm\n",
      "8.6. array - Efficient arrays of numeric values\n",
      "8.7. sets - Unordered collections of unique elements\n",
      "8.8. sched - Event scheduler\n",
      "8.9. mutex - Mutual exclusion support\n",
      "8.10. Queue - A synchronized queue class\n",
      "8.11. weakref - Weak references\n",
      "8.12. UserDict - Class wrapper for dictionary objects\n",
      "8.13. UserList - Class wrapper for list objects\n",
      "8.14. UserString - Class wrapper for string objects\n",
      "8.15. types - Names for built-in types\n",
      "8.16. new - Creation of runtime internal objects\n",
      "8.17. copy - Shallow and deep copy operations\n",
      "8.18. pprint - Data pretty printer\n",
      "8.19. repr - Alternate repr() implementation\n",
      "9. Numeric and Mathematical Modules\n",
      "9.1. numbers - Numeric abstract base classes\n",
      "9.2. math - Mathematical functions\n",
      "9.3. cmath - Mathematical functions for complex numbers\n",
      "9.4. decimal - Decimal fixed point and floating point arithmetic\n",
      "9.5. fractions - Rational numbers\n",
      "9.6. random - Generate pseudo-random numbers\n",
      "9.7. itertools - Functions creating iterators for efficient looping\n",
      "9.8. functools - Higher-order functions and operations on callable objects\n",
      "9.9. operator - Standard operators as functions\n",
      "10. File and Directory Access\n",
      "10.1. os.path - Common pathname manipulations\n",
      "10.2. fileinput - Iterate over lines from multiple input streams\n",
      "10.3. stat - Interpreting stat() results\n",
      "10.4. statvfs - Constants used with os.statvfs()\n",
      "10.5. filecmp - File and Directory Comparisons\n",
      "10.6. tempfile - Generate temporary files and directories\n",
      "10.7. glob - Unix style pathname pattern expansion\n",
      "10.8. fnmatch - Unix filename pattern matching\n",
      "10.9. linecache - Random access to text lines\n",
      "10.10. shutil - High-level file operations\n",
      "10.11. dircache - Cached directory listings\n",
      "10.12. macpath - Mac OS 9 path manipulation functions\n",
      "11. Data Persistence\n",
      "11.1. pickle - Python object serialization\n",
      "11.2. cPickle - A faster pickle\n",
      "11.3. copy_reg - Register pickle support functions\n",
      "11.4. shelve - Python object persistence\n",
      "11.5. marshal - Internal Python object serialization\n",
      "11.6. anydbm - Generic access to DBM-style databases\n",
      "11.7. whichdb - Guess which DBM module created a database\n",
      "11.8. dbm - Simple “database” interface\n",
      "11.9. gdbm - GNU’s reinterpretation of dbm\n",
      "11.10. dbhash - DBM-style interface to the BSD database library\n",
      "11.11. bsddb - Interface to Berkeley DB library\n",
      "11.12. dumbdbm - Portable DBM implementation\n",
      "11.13. sqlite3 - DB-API 2.0 interface for SQLite databases\n",
      "12. Data Compression and Archiving\n",
      "12.1. zlib - Compression compatible with gzip\n",
      "12.2. gzip - Support for gzip files\n",
      "12.3. bz2 - Compression compatible with bzip2\n",
      "12.4. zipfile - Work with ZIP archives\n",
      "12.5. tarfile - Read and write tar archive files\n",
      "13. File Formats\n",
      "13.1. csv - CSV File Reading and Writing\n",
      "13.2. ConfigParser - Configuration file parser\n",
      "13.3. robotparser - Parser for robots.txt\n",
      "13.4. netrc - netrc file processing\n",
      "13.5. xdrlib - Encode and decode XDR data\n",
      "13.6. plistlib - Generate and parse Mac OS X .plist files\n",
      "14. Cryptographic Services\n",
      "14.1. hashlib - Secure hashes and message digests\n",
      "14.2. hmac - Keyed-Hashing for Message Authentication\n",
      "14.3. md5 - MD5 message digest algorithm\n",
      "14.4. sha - SHA-1 message digest algorithm\n",
      "15. Generic Operating System Services\n",
      "15.1. os - Miscellaneous operating system interfaces\n",
      "15.2. io - Core tools for working with streams\n",
      "15.3. time - Time access and conversions\n",
      "15.4. argparse - Parser for command-line options, arguments and sub-commands\n",
      "15.5. optparse - Parser for command line options\n",
      "15.6. getopt - C-style parser for command line options\n",
      "15.7. logging - Logging facility for Python\n",
      "15.8. logging.config - Logging configuration\n",
      "15.9. logging.handlers - Logging handlers\n",
      "15.10. getpass - Portable password input\n",
      "15.11. curses - Terminal handling for character-cell displays\n",
      "15.12. curses.textpad - Text input widget for curses programs\n",
      "15.13. curses.ascii - Utilities for ASCII characters\n",
      "15.14. curses.panel - A panel stack extension for curses\n",
      "15.15. platform - Access to underlying platform’s identifying data\n",
      "15.16. errno - Standard errno system symbols\n",
      "15.17. ctypes - A foreign function library for Python\n",
      "16. Optional Operating System Services\n",
      "16.1. select - Waiting for I/O completion\n",
      "16.2. threading - Higher-level threading interface\n",
      "16.3. thread - Multiple threads of control\n",
      "16.4. dummy_threading - Drop-in replacement for the threading module\n",
      "16.5. dummy_thread - Drop-in replacement for the thread module\n",
      "16.6. multiprocessing - Process-based “threading” interface\n",
      "16.7. mmap - Memory-mapped file support\n",
      "16.8. readline - GNU readline interface\n",
      "16.9. rlcompleter - Completion function for GNU readline\n",
      "17. Interprocess Communication and Networking\n",
      "17.1. subprocess - Subprocess management\n",
      "17.2. socket - Low-level networking interface\n",
      "17.3. ssl - TLS/SSL wrapper for socket objects\n",
      "17.4. signal - Set handlers for asynchronous events\n",
      "17.5. popen2 - Subprocesses with accessible I/O streams\n",
      "17.6. asyncore - Asynchronous socket handler\n",
      "17.7. asynchat - Asynchronous socket command/response handler\n",
      "18. Internet Data Handling\n",
      "18.1. email - An email and MIME handling package\n",
      "18.2. json - JSON encoder and decoder\n",
      "18.3. mailcap - Mailcap file handling\n",
      "18.4. mailbox - Manipulate mailboxes in various formats\n",
      "18.5. mhlib - Access to MH mailboxes\n",
      "18.6. mimetools - Tools for parsing MIME messages\n",
      "18.7. mimetypes - Map filenames to MIME types\n",
      "18.8. MimeWriter - Generic MIME file writer\n",
      "18.9. mimify - MIME processing of mail messages\n",
      "18.10. multifile - Support for files containing distinct parts\n",
      "18.11. rfc822 - Parse RFC 2822 mail headers\n",
      "18.12. base64 - RFC 3548: Base16, Base32, Base64 Data Encodings\n",
      "18.13. binhex - Encode and decode binhex4 files\n",
      "18.14. binascii - Convert between binary and ASCII\n",
      "18.15. quopri - Encode and decode MIME quoted-printable data\n",
      "18.16. uu - Encode and decode uuencode files\n",
      "19. Structured Markup Processing Tools\n",
      "19.1. HTMLParser - Simple HTML and XHTML parser\n",
      "19.2. sgmllib - Simple SGML parser\n",
      "19.3. htmllib - A parser for HTML documents\n",
      "19.4. htmlentitydefs - Definitions of HTML general entities\n",
      "19.5. XML Processing Modules\n",
      "19.6. XML vulnerabilities\n",
      "19.7. xml.etree.ElementTree - The ElementTree XML API\n",
      "19.8. xml.dom - The Document Object Model API\n",
      "19.9. xml.dom.minidom - Minimal DOM implementation\n",
      "19.10. xml.dom.pulldom - Support for building partial DOM trees\n",
      "19.11. xml.sax - Support for SAX2 parsers\n",
      "19.12. xml.sax.handler - Base classes for SAX handlers\n",
      "19.13. xml.sax.saxutils - SAX Utilities\n",
      "19.14. xml.sax.xmlreader - Interface for XML parsers\n",
      "19.15. xml.parsers.expat - Fast XML parsing using Expat\n",
      "20. Internet Protocols and Support\n",
      "20.1. webbrowser - Convenient Web-browser controller\n",
      "20.2. cgi - Common Gateway Interface support\n",
      "20.3. cgitb - Traceback manager for CGI scripts\n",
      "20.4. wsgiref - WSGI Utilities and Reference Implementation\n",
      "20.5. urllib - Open arbitrary resources by URL\n",
      "20.6. urllib2 - extensible library for opening URLs\n",
      "20.7. httplib - HTTP protocol client\n",
      "20.8. ftplib - FTP protocol client\n",
      "20.9. poplib - POP3 protocol client\n",
      "20.10. imaplib - IMAP4 protocol client\n",
      "20.11. nntplib - NNTP protocol client\n",
      "20.12. smtplib - SMTP protocol client\n",
      "20.13. smtpd - SMTP Server\n",
      "20.14. telnetlib - Telnet client\n",
      "20.15. uuid - UUID objects according to RFC 4122\n",
      "20.16. urlparse - Parse URLs into components\n",
      "20.17. SocketServer - A framework for network servers\n",
      "20.18. BaseHTTPServer - Basic HTTP server\n",
      "20.19. SimpleHTTPServer - Simple HTTP request handler\n",
      "20.20. CGIHTTPServer - CGI-capable HTTP request handler\n",
      "20.21. cookielib - Cookie handling for HTTP clients\n",
      "20.22. Cookie - HTTP state management\n",
      "20.23. xmlrpclib - XML-RPC client access\n",
      "20.24. SimpleXMLRPCServer - Basic XML-RPC server\n",
      "20.25. DocXMLRPCServer - Self-documenting XML-RPC server\n",
      "21. Multimedia Services\n",
      "21.1. audioop - Manipulate raw audio data\n",
      "21.2. imageop - Manipulate raw image data\n",
      "21.3. aifc - Read and write AIFF and AIFC files\n",
      "21.4. sunau - Read and write Sun AU files\n",
      "21.5. wave - Read and write WAV files\n",
      "21.6. chunk - Read IFF chunked data\n",
      "21.7. colorsys - Conversions between color systems\n",
      "21.8. imghdr - Determine the type of an image\n",
      "21.9. sndhdr - Determine type of sound file\n",
      "21.10. ossaudiodev - Access to OSS-compatible audio devices\n",
      "22. Internationalization\n",
      "22.1. gettext - Multilingual internationalization services\n",
      "22.2. locale - Internationalization services\n",
      "23. Program Frameworks\n",
      "23.1. cmd - Support for line-oriented command interpreters\n",
      "23.2. shlex - Simple lexical analysis\n",
      "24. Graphical User Interfaces with Tk\n",
      "24.1. Tkinter - Python interface to Tcl/Tk\n",
      "24.2. ttk - Tk themed widgets\n",
      "24.3. Tix - Extension widgets for Tk\n",
      "24.4. ScrolledText - Scrolled Text Widget\n",
      "24.5. turtle - Turtle graphics for Tk\n",
      "24.6. IDLE\n",
      "24.7. Other Graphical User Interface Packages\n",
      "25. Development Tools\n",
      "25.1. pydoc - Documentation generator and online help system\n",
      "25.2. doctest - Test interactive Python examples\n",
      "25.3. unittest - Unit testing framework\n",
      "25.4. 2to3 - Automated Python 2 to 3 code translation\n",
      "25.5. test - Regression tests package for Python\n",
      "25.6. test.test_support - Utility functions for tests\n",
      "26. Debugging and Profiling\n",
      "26.1. bdb - Debugger framework\n",
      "26.2. pdb - The Python Debugger\n",
      "26.3. Debugger Commands\n",
      "26.4. The Python Profilers\n",
      "26.5. hotshot - High performance logging profiler\n",
      "26.6. timeit - Measure execution time of small code snippets\n",
      "26.7. trace - Trace or track Python statement execution\n",
      "27. Python Runtime Services\n",
      "27.1. sys - System-specific parameters and functions\n",
      "27.2. sysconfig - Provide access to Python’s configuration information\n",
      "27.3. __builtin__ - Built-in objects\n",
      "27.4. future_builtins - Python 3 builtins\n",
      "27.5. __main__ - Top-level script environment\n",
      "27.6. warnings - Warning control\n",
      "27.7. contextlib - Utilities for with-statement contexts\n",
      "27.8. abc - Abstract Base Classes\n",
      "27.9. atexit - Exit handlers\n",
      "27.10. traceback - Print or retrieve a stack traceback\n",
      "27.11. __future__ - Future statement definitions\n",
      "27.12. gc - Garbage Collector interface\n",
      "27.13. inspect - Inspect live objects\n",
      "27.14. site - Site-specific configuration hook\n",
      "27.15. user - User-specific configuration hook\n",
      "27.16. fpectl - Floating point exception control\n",
      "27.17. distutils - Building and installing Python modules\n",
      "28. Custom Python Interpreters\n",
      "28.1. code - Interpreter base classes\n",
      "28.2. codeop - Compile Python code\n",
      "29. Restricted Execution\n",
      "29.1. rexec - Restricted execution framework\n",
      "29.2. Bastion - Restricting access to objects\n",
      "30. Importing Modules\n",
      "30.1. imp - Access the import internals\n",
      "30.2. importlib - Convenience wrappers for __import__()\n",
      "30.3. imputil - Import utilities\n",
      "30.4. zipimport - Import modules from Zip archives\n",
      "30.5. pkgutil - Package extension utility\n",
      "30.6. modulefinder - Find modules used by a script\n",
      "30.7. runpy - Locating and executing Python modules\n",
      "31. Python Language Services\n",
      "31.1. parser - Access Python parse trees\n",
      "31.2. ast - Abstract Syntax Trees\n",
      "31.3. symtable - Access to the compiler’s symbol tables\n",
      "31.4. symbol - Constants used with Python parse trees\n",
      "31.5. token - Constants used with Python parse trees\n",
      "31.6. keyword - Testing for Python keywords\n",
      "31.7. tokenize - Tokenizer for Python source\n",
      "31.8. tabnanny - Detection of ambiguous indentation\n",
      "31.9. pyclbr - Python class browser support\n",
      "31.10. py_compile - Compile Python source files\n",
      "31.11. compileall - Byte-compile Python libraries\n",
      "31.12. dis - Disassembler for Python bytecode\n",
      "31.13. pickletools - Tools for pickle developers\n",
      "32. Python compiler package\n",
      "32.1. The basic interface\n",
      "32.2. Limitations\n",
      "32.3. Python Abstract Syntax\n",
      "32.4. Using Visitors to Walk ASTs\n",
      "32.5. Bytecode Generation\n",
      "33. Miscellaneous Services\n",
      "33.1. formatter - Generic output formatting\n",
      "34. MS Windows Specific Services\n",
      "34.1. msilib - Read and write Microsoft Installer files\n",
      "34.2. msvcrt - Useful routines from the MS VC++ runtime\n",
      "34.3. _winreg - Windows registry access\n",
      "34.4. winsound - Sound-playing interface for Windows\n",
      "35. Unix Specific Services\n",
      "35.1. posix - The most common POSIX system calls\n",
      "35.2. pwd - The password database\n",
      "35.3. spwd - The shadow password database\n",
      "35.4. grp - The group database\n",
      "35.5. crypt - Function to check Unix passwords\n",
      "35.6. dl - Call C functions in shared objects\n",
      "35.7. termios - POSIX style tty control\n",
      "35.8. tty - Terminal control functions\n",
      "35.9. pty - Pseudo-terminal utilities\n",
      "35.10. fcntl - The fcntl and ioctl system calls\n",
      "35.11. pipes - Interface to shell pipelines\n",
      "35.12. posixfile - File-like objects with locking support\n",
      "35.13. resource - Resource usage information\n",
      "35.14. nis - Interface to Sun’s NIS (Yellow Pages)\n",
      "35.15. syslog - Unix syslog library routines\n",
      "35.16. commands - Utilities for running commands\n",
      "36. Mac OS X specific services\n",
      "36.1. ic - Access to the Mac OS X Internet Config\n",
      "36.2. MacOS - Access to Mac OS interpreter features\n",
      "36.3. macostools - Convenience routines for file manipulation\n",
      "36.4. findertools - The finder‘s Apple Events interface\n",
      "36.5. EasyDialogs - Basic Macintosh dialogs\n",
      "36.6. FrameWork - Interactive application framework\n",
      "36.7. autoGIL - Global Interpreter Lock handling in event loops\n",
      "36.8. Mac OS Toolbox Modules\n",
      "36.9. ColorPicker - Color selection dialog\n",
      "37. MacPython OSA Modules\n",
      "37.1. gensuitemodule - Generate OSA stub packages\n",
      "37.2. aetools - OSA client support\n",
      "37.3. aepack - Conversion between Python variables and AppleEvent data containers\n",
      "37.4. aetypes - AppleEvent objects\n",
      "37.5. MiniAEFrame - Open Scripting Architecture server support\n",
      "38. SGI IRIX Specific Services\n",
      "38.1. al - Audio functions on the SGI\n",
      "38.2. AL - Constants used with the al module\n",
      "38.3. cd - CD-ROM access on SGI systems\n",
      "38.4. fl - FORMS library for graphical user interfaces\n",
      "38.5. FL - Constants used with the fl module\n",
      "38.6. flp - Functions for loading stored FORMS designs\n",
      "38.7. fm - Font Manager interface\n",
      "38.8. gl - Graphics Library interface\n",
      "38.9. DEVICE - Constants used with the gl module\n",
      "38.10. GL - Constants used with the gl module\n",
      "38.11. imgfile - Support for SGI imglib files\n",
      "38.12. jpeg - Read and write JPEG files\n",
      "39. SunOS Specific Services\n",
      "39.1. sunaudiodev - Access to Sun audio hardware\n",
      "39.2. SUNAUDIODEV - Constants used with sunaudiodev\n",
      "40. Undocumented Modules\n",
      "40.1. Miscellaneous useful utilities\n",
      "40.2. Platform specific modules\n",
      "40.3. Multimedia\n",
      "40.4. Undocumented Mac OS modules\n",
      "40.5. Obsolete\n",
      "40.6. SGI-specific Extension modules\n",
      "\n"
     ]
    }
   ],
   "source": [
    "#6-2\n",
    "# 파일의 내용을 읽어오기 위한 아래의 코드를\n",
    "# 예외처리 구문을 이용하여 결과와 같이 나올 수 있도록 수정\n",
    "\n",
    "try:\n",
    "    file_name='python.txt'\n",
    "    file =open(file_name,'r')\n",
    "except FileNotFoundError as e:\n",
    "    print(e,'예외발생')\n",
    "else:\n",
    "    text=file.read()\n",
    "    print(text)"
   ]
  },
  {
   "cell_type": "code",
   "execution_count": 27,
   "metadata": {},
   "outputs": [
    {
     "data": {
      "text/plain": [
       "['ArithmeticError',\n",
       " 'AssertionError',\n",
       " 'AttributeError',\n",
       " 'BaseException',\n",
       " 'BlockingIOError',\n",
       " 'BrokenPipeError',\n",
       " 'BufferError',\n",
       " 'BytesWarning',\n",
       " 'ChildProcessError',\n",
       " 'ConnectionAbortedError',\n",
       " 'ConnectionError',\n",
       " 'ConnectionRefusedError',\n",
       " 'ConnectionResetError',\n",
       " 'DeprecationWarning',\n",
       " 'EOFError',\n",
       " 'Ellipsis',\n",
       " 'EnvironmentError',\n",
       " 'Exception',\n",
       " 'False',\n",
       " 'FileExistsError',\n",
       " 'FileNotFoundError',\n",
       " 'FloatingPointError',\n",
       " 'FutureWarning',\n",
       " 'GeneratorExit',\n",
       " 'IOError',\n",
       " 'ImportError',\n",
       " 'ImportWarning',\n",
       " 'IndentationError',\n",
       " 'IndexError',\n",
       " 'InterruptedError',\n",
       " 'IsADirectoryError',\n",
       " 'KeyError',\n",
       " 'KeyboardInterrupt',\n",
       " 'LookupError',\n",
       " 'MemoryError',\n",
       " 'ModuleNotFoundError',\n",
       " 'NameError',\n",
       " 'None',\n",
       " 'NotADirectoryError',\n",
       " 'NotImplemented',\n",
       " 'NotImplementedError',\n",
       " 'OSError',\n",
       " 'OverflowError',\n",
       " 'PendingDeprecationWarning',\n",
       " 'PermissionError',\n",
       " 'ProcessLookupError',\n",
       " 'RecursionError',\n",
       " 'ReferenceError',\n",
       " 'ResourceWarning',\n",
       " 'RuntimeError',\n",
       " 'RuntimeWarning',\n",
       " 'StopAsyncIteration',\n",
       " 'StopIteration',\n",
       " 'SyntaxError',\n",
       " 'SyntaxWarning',\n",
       " 'SystemError',\n",
       " 'SystemExit',\n",
       " 'TabError',\n",
       " 'TimeoutError',\n",
       " 'True',\n",
       " 'TypeError',\n",
       " 'UnboundLocalError',\n",
       " 'UnicodeDecodeError',\n",
       " 'UnicodeEncodeError',\n",
       " 'UnicodeError',\n",
       " 'UnicodeTranslateError',\n",
       " 'UnicodeWarning',\n",
       " 'UserWarning',\n",
       " 'ValueError',\n",
       " 'Warning',\n",
       " 'ZeroDivisionError',\n",
       " '__IPYTHON__',\n",
       " '__build_class__',\n",
       " '__debug__',\n",
       " '__doc__',\n",
       " '__import__',\n",
       " '__loader__',\n",
       " '__name__',\n",
       " '__package__',\n",
       " '__spec__',\n",
       " 'abs',\n",
       " 'all',\n",
       " 'any',\n",
       " 'ascii',\n",
       " 'bin',\n",
       " 'bool',\n",
       " 'breakpoint',\n",
       " 'bytearray',\n",
       " 'bytes',\n",
       " 'callable',\n",
       " 'chr',\n",
       " 'classmethod',\n",
       " 'compile',\n",
       " 'complex',\n",
       " 'copyright',\n",
       " 'credits',\n",
       " 'delattr',\n",
       " 'dict',\n",
       " 'dir',\n",
       " 'display',\n",
       " 'divmod',\n",
       " 'enumerate',\n",
       " 'eval',\n",
       " 'exec',\n",
       " 'filter',\n",
       " 'float',\n",
       " 'format',\n",
       " 'frozenset',\n",
       " 'get_ipython',\n",
       " 'getattr',\n",
       " 'globals',\n",
       " 'hasattr',\n",
       " 'hash',\n",
       " 'help',\n",
       " 'hex',\n",
       " 'id',\n",
       " 'input',\n",
       " 'int',\n",
       " 'isinstance',\n",
       " 'issubclass',\n",
       " 'iter',\n",
       " 'len',\n",
       " 'license',\n",
       " 'list',\n",
       " 'locals',\n",
       " 'map',\n",
       " 'max',\n",
       " 'memoryview',\n",
       " 'min',\n",
       " 'next',\n",
       " 'object',\n",
       " 'oct',\n",
       " 'open',\n",
       " 'ord',\n",
       " 'pow',\n",
       " 'print',\n",
       " 'property',\n",
       " 'range',\n",
       " 'repr',\n",
       " 'reversed',\n",
       " 'round',\n",
       " 'set',\n",
       " 'setattr',\n",
       " 'slice',\n",
       " 'sorted',\n",
       " 'staticmethod',\n",
       " 'str',\n",
       " 'sum',\n",
       " 'super',\n",
       " 'tuple',\n",
       " 'type',\n",
       " 'vars',\n",
       " 'zip']"
      ]
     },
     "execution_count": 27,
     "metadata": {},
     "output_type": "execute_result"
    }
   ],
   "source": [
    "dir(__builtins__)"
   ]
  },
  {
   "cell_type": "code",
   "execution_count": 30,
   "metadata": {},
   "outputs": [
    {
     "name": "stdout",
     "output_type": "stream",
     "text": [
      "dx: 4 dy: 2\n"
     ]
    }
   ],
   "source": [
    "def distance(start, end):\n",
    " # 코드 작성\n",
    "    return (abs(start[0]-end[0]),abs(start[1]-end[1]))\n",
    "\n",
    "start = (1, 1)\n",
    "end = (5, 3)\n",
    "dx, dy = distance(start, end)\n",
    "print('dx:', dx, 'dy:', dy)"
   ]
  },
  {
   "cell_type": "code",
   "execution_count": 41,
   "metadata": {},
   "outputs": [
    {
     "name": "stdout",
     "output_type": "stream",
     "text": [
      "컴파일 언어가 아닌 것은?\n",
      "1. C 2. C# 3. Python 4. swift => 1\n",
      "컴퓨터 장치가 아닌 것은?\n",
      "1. HDD 2. SDD 3. RAM 4. CPU => 1\n",
      "파이썬의 자료형이 아닌 것은?\n",
      "1. str 2. tuple 3. list 4. Map => \n",
      "재입력\n"
     ]
    }
   ],
   "source": [
    "print('컴파일 언어가 아닌 것은?')\n",
    "answer1 = input('1. C 2. C# 3. Python 4. swift => ')\n",
    "print('컴퓨터 장치가 아닌 것은?')\n",
    "answer2 = input('1. HDD 2. SDD 3. RAM 4. CPU => ')\n",
    "print('파이썬의 자료형이 아닌 것은?')\n",
    "answer3 = input('1. str 2. tuple 3. list 4. Map => ')\n",
    "answer_list = list()\n",
    "answer_list.append(answer1)\n",
    "answer_list.append(answer2)\n",
    "answer_list.append(answer3)\n",
    "# 코드 작성\n",
    "if all(answer_list):\n",
    "    print(\"제출완료\")\n",
    "else:\n",
    "    print(\"재입력\")"
   ]
  },
  {
   "cell_type": "code",
   "execution_count": 43,
   "metadata": {},
   "outputs": [
    {
     "name": "stdout",
     "output_type": "stream",
     "text": [
      "0 1\n",
      "1 2\n",
      "2 3\n",
      "0 1\n",
      "1 2\n",
      "2 3\n",
      "0 1\n",
      "1 2\n",
      "2 3\n",
      "0 1\n",
      "1 2\n",
      "2 3\n",
      "0 문\n",
      "1 자\n",
      "2 열\n"
     ]
    }
   ],
   "source": [
    "for i, e in enumerate([1, 2, 3]):\n",
    "    print(i, e)\n",
    "\n",
    "for i, e in enumerate((1, 2, 3)):\n",
    "    print(i, e)\n",
    "\n",
    "for i, e in enumerate({1, 2, 3}):\n",
    "    print(i, e)\n",
    "\n",
    "for i, e in enumerate({1:1, 2:2, 3:3}):\n",
    "    print(i, e)\n",
    "\n",
    "for i, e in enumerate('문자열'):\n",
    "    print(i, e)"
   ]
  },
  {
   "cell_type": "code",
   "execution_count": 45,
   "metadata": {},
   "outputs": [
    {
     "data": {
      "text/plain": [
       "[1, 3, 8]"
      ]
     },
     "execution_count": 45,
     "metadata": {},
     "output_type": "execute_result"
    }
   ],
   "source": [
    "num_list = [1, -2, 3, -5, 8, -3]\n",
    "list(filter(lambda n : n>0, num_list))\n"
   ]
  },
  {
   "cell_type": "code",
   "execution_count": 46,
   "metadata": {},
   "outputs": [
    {
     "data": {
      "text/plain": [
       "[1, 2, 4, 5, 7, 8, 10, 11, 13, 14, 16, 17, 19, 20]"
      ]
     },
     "execution_count": 46,
     "metadata": {},
     "output_type": "execute_result"
    }
   ],
   "source": [
    "num_list = range(1,21)\n",
    "list(filter(lambda x : x%3!=0, num_list))\n"
   ]
  },
  {
   "cell_type": "code",
   "execution_count": 51,
   "metadata": {},
   "outputs": [
    {
     "name": "stdout",
     "output_type": "stream",
     "text": [
      "HELLO\n",
      "GGOREB\n"
     ]
    }
   ],
   "source": [
    "# ㅇ 주어진 16진수 문자를 이용하여 실행결과와 같이 출력될 수 있도록\n",
    "#  show_hex_to_ch() 함수 작성 (split(), chr(), int() 등 이용)\n",
    "hexa_string1 = '48 45 4C 4C 4F'\n",
    "hexa_string2 = '47 47 4F 52 45 42'\n",
    "def show_hex_to_ch(hexa_string):\n",
    " # 코드 작성\n",
    "    temp=hexa_string.split()\n",
    "    str=''\n",
    "    for i in temp :\n",
    "        str+=chr(int(i,16)) #chr 은 10진수 아스키코드만 처리가능\n",
    "    print(str)\n",
    "show_hex_to_ch(hexa_string1)\n",
    "show_hex_to_ch(hexa_string2)"
   ]
  },
  {
   "cell_type": "code",
   "execution_count": 54,
   "metadata": {},
   "outputs": [
    {
     "name": "stdout",
     "output_type": "stream",
     "text": [
      "29.04\n"
     ]
    }
   ],
   "source": [
    "values = [10, 'a', True, {}, [], -4, 23.24, (1,), -1.2]\n",
    "result = 0.0\n",
    "# 코드 작성\n",
    "result=0\n",
    "for temp in values :\n",
    "    if isinstance(temp,int) or isinstance(temp,float) :\n",
    "        result+=temp\n",
    "        \n",
    "print(result) # 29.04"
   ]
  },
  {
   "cell_type": "code",
   "execution_count": 65,
   "metadata": {},
   "outputs": [
    {
     "data": {
      "text/plain": [
       "[3, 6, 9, 12]"
      ]
     },
     "execution_count": 65,
     "metadata": {},
     "output_type": "execute_result"
    }
   ],
   "source": [
    "# map() - 연습문제\n",
    "num_list = [1,2,3,4]\n",
    "\n",
    "def three_times(x): return x*3\n",
    "#코드 작성\n",
    "list(map(three_times,num_list))#방법1\n",
    "list(map(lambda x:x*3,num_list))#방법2"
   ]
  },
  {
   "cell_type": "code",
   "execution_count": 70,
   "metadata": {},
   "outputs": [
    {
     "name": "stdout",
     "output_type": "stream",
     "text": [
      "65 83 67 73 73 32 84 65 66 76 69 80 89 84 72 79 78 "
     ]
    }
   ],
   "source": [
    "string1 = 'ASCII TABLE'\n",
    "string2 = 'PYTHON'\n",
    "def show_ch_to_ascii(string):\n",
    " # 코드 작성\n",
    "    for i in string :\n",
    "        print(ord(i),end=' ')\n",
    "show_ch_to_ascii(string1)\n",
    "show_ch_to_ascii(string2)"
   ]
  },
  {
   "cell_type": "code",
   "execution_count": 74,
   "metadata": {},
   "outputs": [
    {
     "name": "stdout",
     "output_type": "stream",
     "text": [
      "[('b', 12), ('a', 10), ('c', 5), ('d', 1)]\n"
     ]
    }
   ],
   "source": [
    "import operator\n",
    "d={'a':10,'c':5,'b':12,'d':1,}\n",
    "d=sorted(d.items(),key=operator.itemgetter(1),reverse=True)\n",
    "print(d)#역순"
   ]
  },
  {
   "cell_type": "code",
   "execution_count": 79,
   "metadata": {},
   "outputs": [
    {
     "name": "stdout",
     "output_type": "stream",
     "text": [
      "<zip object at 0x108f09240>\n",
      "[(1, 'a', '가'), (2, 'b', '나'), (3, 'c', '다'), (4, 'd', '라')]\n"
     ]
    }
   ],
   "source": [
    " #zip() - 연습문제\n",
    "list1 = [1, 2, 3, 4]\n",
    "list2 = ['a', 'b', 'c', 'd']\n",
    "list3 = ['가', '나', '다', '라']\n",
    "print(zip(list1,list2,list3))\n",
    "print(list(zip(list1,list2,list3)))\n",
    "# 코드 작성"
   ]
  },
  {
   "cell_type": "code",
   "execution_count": 80,
   "metadata": {},
   "outputs": [
    {
     "name": "stdout",
     "output_type": "stream",
     "text": [
      "['/Users/DaeHyeon/PythonStudy/lecture', '/Library/Frameworks/Python.framework/Versions/3.8/lib/python38.zip', '/Library/Frameworks/Python.framework/Versions/3.8/lib/python3.8', '/Library/Frameworks/Python.framework/Versions/3.8/lib/python3.8/lib-dynload', '', '/Users/DaeHyeon/Library/Python/3.8/lib/python/site-packages', '/Library/Frameworks/Python.framework/Versions/3.8/lib/python3.8/site-packages', '/Library/Frameworks/Python.framework/Versions/3.8/lib/python3.8/site-packages/IPython/extensions', '/Users/DaeHyeon/.ipython']\n"
     ]
    }
   ],
   "source": [
    "import sys\n",
    "print(sys.path)"
   ]
  },
  {
   "cell_type": "code",
   "execution_count": 92,
   "metadata": {},
   "outputs": [],
   "source": [
    "#좌표(x, y) 정보를 가지는 NowData클래스를 파일로 저장 후 다시 읽어서 정보 확인\n",
    "import pickle\n",
    "class NowData:\n",
    "    def __init__(self):\n",
    "        self.x = 0\n",
    "        self.y = 0\n",
    "    def move(self, x, y):\n",
    "        self.x = x\n",
    "        self.y = y\n",
    "    def get_location(self):\n",
    "        return self.x, self.y\n",
    "data = NowData()\n",
    "data.move(100, 200)\n",
    "# 코드 작성\n",
    "\n",
    "file=open('data.bin','wb')\n",
    "\n",
    "pickle.dump(data, file)\n",
    "file.close()\n"
   ]
  },
  {
   "cell_type": "code",
   "execution_count": 94,
   "metadata": {},
   "outputs": [
    {
     "name": "stdout",
     "output_type": "stream",
     "text": [
      "(100, 200)\n"
     ]
    }
   ],
   "source": [
    "import pickle\n",
    "file=open('data.bin','rb')\n",
    "data=pickle.load(file)\n",
    "print(data.get_location())\n",
    "file.close()"
   ]
  },
  {
   "cell_type": "code",
   "execution_count": 101,
   "metadata": {},
   "outputs": [],
   "source": [
    "#아래와 같은 구조 디렉토리와 파일을 생성 (os)\n",
    "import os\n",
    "os.mkdir('python_dir')\n",
    "os.mkdir('python_dir/a')\n",
    "file=open('python_dir/a/a.txt','w')\n",
    "file.close()\n",
    "os.mkdir('python_dir/b')\n",
    "file=open('python_dir/b/b.txt','w')\n",
    "file.close()\n"
   ]
  },
  {
   "cell_type": "code",
   "execution_count": 124,
   "metadata": {},
   "outputs": [
    {
     "name": "stdout",
     "output_type": "stream",
     "text": [
      "['/Users/Daehyeon/PythonStudy/lecture/package.py', '/Users/Daehyeon/PythonStudy/lecture/run.py', '/Users/Daehyeon/PythonStudy/lecture/mod_class.py', '/Users/Daehyeon/PythonStudy/lecture/Calendar.py', '/Users/Daehyeon/PythonStudy/lecture/mymod.py']\n",
      "5\n"
     ]
    }
   ],
   "source": [
    "import glob\n",
    "fileList =glob.glob('/Users/Daehyeon/PythonStudy/lecture/*py') #py 빼면 all\n",
    "print(fileList)\n",
    "print(len(fileList))"
   ]
  },
  {
   "cell_type": "code",
   "execution_count": 244,
   "metadata": {},
   "outputs": [
    {
     "name": "stdout",
     "output_type": "stream",
     "text": [
      "time.struct_time(tm_year=2020, tm_mon=1, tm_mday=15, tm_hour=16, tm_min=21, tm_sec=20, tm_wday=2, tm_yday=15, tm_isdst=0)\n",
      "2020/1/15\n",
      "Wed Jan 15 16:21:20 2020\n",
      "Wed Jan 15 16:21:20 2020\n",
      "2020년 01월 15일\n"
     ]
    }
   ],
   "source": [
    " #time 시간과 관련된 여러 기능을 제공하는 모듈\n",
    "import time\n",
    "date=time.time() #이게 random의 seed로 들어간다. 이걸 나눠서 뿌려준다.\n",
    "date2=time.localtime(date)\n",
    "print(date2)\n",
    "nowDate=str(date2.tm_year)+'/'+str(date2.tm_mon)+'/'+str(date2.tm_mday)\n",
    "print(nowDate)\n",
    "print(time.asctime(time.localtime(time.time())))\n",
    "print(time.ctime())\n",
    "print(time.strftime('%Y년 %m월 %d일', time.localtime( time.time() ) ) )"
   ]
  },
  {
   "cell_type": "code",
   "execution_count": 247,
   "metadata": {},
   "outputs": [
    {
     "name": "stdout",
     "output_type": "stream",
     "text": [
      "2020-01-15 16:23:49\n"
     ]
    }
   ],
   "source": [
    "#1. time 모듈을 이용하여 실행 결과와 같이 출력될 수 있도록 코드 작성\n",
    "import time\n",
    "print(time.strftime('%Y-%m-%d %H:%M:%S',time.localtime(time.time())))"
   ]
  },
  {
   "cell_type": "code",
   "execution_count": 250,
   "metadata": {},
   "outputs": [
    {
     "name": "stdout",
     "output_type": "stream",
     "text": [
      "2020-04-24 16:28:34\n"
     ]
    }
   ],
   "source": [
    "#2. 현재 일자에서 100일 뒤의 날짜를 실행 결과와 같은 형식으로 출력\n",
    "\n",
    "import time\n",
    "# minute=100\n",
    "#time.sleep(60*60*24*minute) #100일간 멈춰세움\n",
    "print(time.strftime('%Y-%m-%d %H:%M:%S',time.localtime(time.time()+100*24*60*60)))"
   ]
  },
  {
   "cell_type": "code",
   "execution_count": 253,
   "metadata": {},
   "outputs": [
    {
     "name": "stdout",
     "output_type": "stream",
     "text": [
      "6\n",
      "(3, 31)\n"
     ]
    }
   ],
   "source": [
    "import calendar\n",
    "print(calendar.weekday(2012,3,25)) #일요일 =6 \n",
    "print(calendar.monthrange(2012,3)) #이 두개만 쓸만함"
   ]
  },
  {
   "cell_type": "code",
   "execution_count": 255,
   "metadata": {},
   "outputs": [
    {
     "name": "stdout",
     "output_type": "stream",
     "text": [
      "화\n"
     ]
    }
   ],
   "source": [
    "#2. 다음 딕셔너리를 이용하여 2017년 5월 9일의 요일을 출력\n",
    "import calendar\n",
    "week_dict = { 0 : '월', 1 : '화', 2 : '수', 3 : '목', 4 : '금', 5 : '토', 6 : '일' }\n",
    "print(week_dict[calendar.weekday(2017,5,9)])"
   ]
  },
  {
   "cell_type": "code",
   "execution_count": 262,
   "metadata": {},
   "outputs": [
    {
     "name": "stdout",
     "output_type": "stream",
     "text": [
      "    August 2004\n",
      "Mo Tu We Th Fr Sa Su\n",
      "                   1\n",
      " 2  3  4  5  6  7  8\n",
      " 9 10 11 12 13 14 15\n",
      "16 17 18 19 20 21 22\n",
      "23 24 25 26 27 28 29\n",
      "30 31\n",
      "\n",
      "2\n",
      "9\n",
      "16\n",
      "23\n",
      "30\n"
     ]
    }
   ],
   "source": [
    "#3.3. 2004년 8월의 달력과 요일이 월요일인 날짜 출력\n",
    "calendar.prmonth(2004, 8)\n",
    "temp=calendar.monthrange(2004,8)[1]\n",
    "print()\n",
    "for i in range(temp):\n",
    "    if calendar.weekday(2004,8,i+1)==0:\n",
    "        print(i+1)\n"
   ]
  },
  {
   "cell_type": "code",
   "execution_count": null,
   "metadata": {},
   "outputs": [],
   "source": []
  }
 ],
 "metadata": {
  "kernelspec": {
   "display_name": "Python 3",
   "language": "python",
   "name": "python3"
  },
  "language_info": {
   "codemirror_mode": {
    "name": "ipython",
    "version": 3
   },
   "file_extension": ".py",
   "mimetype": "text/x-python",
   "name": "python",
   "nbconvert_exporter": "python",
   "pygments_lexer": "ipython3",
   "version": "3.8.1"
  }
 },
 "nbformat": 4,
 "nbformat_minor": 4
}
