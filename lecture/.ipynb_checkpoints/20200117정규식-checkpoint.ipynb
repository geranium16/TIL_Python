{
 "cells": [
  {
   "cell_type": "code",
   "execution_count": 5,
   "metadata": {},
   "outputs": [
    {
     "name": "stdout",
     "output_type": "stream",
     "text": [
      "<re.Match object; span=(0, 1), match='a'>\n",
      "None\n",
      "True\n"
     ]
    }
   ],
   "source": [
    "import re\n",
    "pat=re.compile('[abc]')\n",
    "pat2=re.compile('[0-3a-dA-D] ')# 0~3,a~d,A~D\n",
    "s='apython'\n",
    "s2='python'\n",
    "print(pat.match(s)) \n",
    "print(pat.match(s2))\n",
    "\n",
    "#파이썬에서는 뭔가 있으면 True 없으면 False 또한 None이면 false\n",
    "\n",
    "if pat.match(s):\n",
    "    print(True)\n",
    "else:\n",
    "    print(False)\n",
    "    "
   ]
  },
  {
   "cell_type": "code",
   "execution_count": 26,
   "metadata": {},
   "outputs": [
    {
     "name": "stdout",
     "output_type": "stream",
     "text": [
      "<re.Match object; span=(0, 14), match='791111-1234567'>\n"
     ]
    }
   ],
   "source": [
    "import re\n",
    "text = '791111-1234567'\n",
    "regex = '[0-9]{6}-[1-4]{1}\\d{6}'\n",
    "pattern = re.compile(regex)\n",
    "res = pattern.match(text)\n",
    "print(res)"
   ]
  },
  {
   "cell_type": "code",
   "execution_count": 25,
   "metadata": {},
   "outputs": [
    {
     "name": "stdout",
     "output_type": "stream",
     "text": [
      "<re.Match object; span=(0, 13), match='123-12-123456'>\n"
     ]
    }
   ],
   "source": [
    "import re\n",
    "text = '123-12-123456'\n",
    "regex = '1\\d{2}-\\d{2}-\\d{6}'\n",
    "pattern = re.compile(regex)\n",
    "res = pattern.match(text)\n",
    "print(res)"
   ]
  },
  {
   "cell_type": "code",
   "execution_count": null,
   "metadata": {},
   "outputs": [],
   "source": [
    "import re\n",
    "text='ㅇㅇㅇabcd1234'\n",
    "regex='[a-zA-Z0-0]*$'\n",
    "pettern = re.compile(regex)\n",
    "res=pettern"
   ]
  },
  {
   "cell_type": "code",
   "execution_count": 40,
   "metadata": {},
   "outputs": [
    {
     "name": "stdout",
     "output_type": "stream",
     "text": [
      "010-****-8181\n"
     ]
    }
   ],
   "source": [
    "import re\n",
    "text = '010-8478-8181'\n",
    "#regex = '([0-9])-[0-9]-([0-9])'# (x)\n",
    "regex = '(\\d{3})-\\d{4}-(\\d{4})'# (x)\n",
    "pattern = re.compile(regex)\n",
    "change = '\\g<1>-****-\\g<2>'\n",
    "res = pattern.sub(change, text)\n",
    "print(res)"
   ]
  },
  {
   "cell_type": "code",
   "execution_count": 41,
   "metadata": {},
   "outputs": [],
   "source": [
    "import requests\n",
    "result = requests.get('https://www.dhlottery.co.kr/gameResult.do?method=byWin&wiselog=H_C_1_1')\n",
    "result.encoding = None #안되면 none"
   ]
  },
  {
   "cell_type": "code",
   "execution_count": null,
   "metadata": {},
   "outputs": [],
   "source": [
    "import re\n",
    "pat=re.compile('lrg\\s+ball.+>(\\d)+</span>') #띄어쓰기 안되서 \\s    .+ 는 뒤에 뭐가 나오던지 몰라도 일단 다받음  마지막은 >\n",
    "pat.findall(result.text)"
   ]
  }
 ],
 "metadata": {
  "kernelspec": {
   "display_name": "Python 3",
   "language": "python",
   "name": "python3"
  },
  "language_info": {
   "codemirror_mode": {
    "name": "ipython",
    "version": 3
   },
   "file_extension": ".py",
   "mimetype": "text/x-python",
   "name": "python",
   "nbconvert_exporter": "python",
   "pygments_lexer": "ipython3",
   "version": "3.8.1"
  }
 },
 "nbformat": 4,
 "nbformat_minor": 4
}
