{
 "cells": [
  {
   "cell_type": "code",
   "execution_count": 141,
   "metadata": {},
   "outputs": [
    {
     "name": "stdout",
     "output_type": "stream",
     "text": [
      "7\n",
      "9\n",
      "24\n",
      "29\n",
      "34\n",
      "34\n",
      "38\n",
      "['7', '9', '24', '29', '34', '34', '38']\n",
      "175\n"
     ]
    }
   ],
   "source": [
    "file=open('/Users/DaeHyeon/hey.txt','r')\n",
    "text=file.read()\n",
    "print(text)\n",
    "texts=text.split('\\n') # list로 만들어준다.\n",
    "print(texts)\n",
    "file.close()\n",
    "\n",
    "total=0\n",
    "for i in texts:\n",
    "    total +=int(i)\n",
    "print(total)\n"
   ]
  },
  {
   "cell_type": "code",
   "execution_count": 144,
   "metadata": {},
   "outputs": [
    {
     "name": "stdout",
     "output_type": "stream",
     "text": [
      "['7\\n', '9\\n', '24\\n', '29\\n', '34\\n', '34\\n', '38']\n",
      "175\n"
     ]
    }
   ],
   "source": [
    "file=open('/Users/DaeHyeon/hey.txt','r')\n",
    "# print(type(file.readlines()))\n",
    "data = file.readlines()\n",
    "print(data)\n",
    "sum=0\n",
    "for i in data:\n",
    "    sum+=int(i)\n",
    "print(sum)\n",
    "file.close()"
   ]
  },
  {
   "cell_type": "code",
   "execution_count": 105,
   "metadata": {},
   "outputs": [
    {
     "name": "stdout",
     "output_type": "stream",
     "text": [
      "python\n",
      "\n",
      "kotlin\n",
      "\n",
      "fortran\n",
      "\n"
     ]
    }
   ],
   "source": [
    "file=open('/Users/DaeHyeon/hello.txt','r')\n",
    "data=file.readlines()\n",
    "for i in data:\n",
    "    if 't' in i:\n",
    "        print(i)"
   ]
  }
 ],
 "metadata": {
  "kernelspec": {
   "display_name": "Python 3",
   "language": "python",
   "name": "python3"
  },
  "language_info": {
   "codemirror_mode": {
    "name": "ipython",
    "version": 3
   },
   "file_extension": ".py",
   "mimetype": "text/x-python",
   "name": "python",
   "nbconvert_exporter": "python",
   "pygments_lexer": "ipython3",
   "version": "3.8.1"
  }
 },
 "nbformat": 4,
 "nbformat_minor": 4
}
