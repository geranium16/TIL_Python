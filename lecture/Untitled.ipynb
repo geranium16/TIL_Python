{
 "cells": [
  {
   "cell_type": "code",
   "execution_count": 122,
   "metadata": {},
   "outputs": [
    {
     "name": "stdout",
     "output_type": "stream",
     "text": [
      "2\n",
      "2\n",
      "3\n",
      "4\n",
      "5\n",
      "6\n",
      "7\n",
      "8\n",
      "9\n",
      "10\n"
     ]
    }
   ],
   "source": [
    "a=1\n",
    "def vartest():\n",
    "    global a\n",
    "    global b\n",
    "    a = a+1\n",
    "    b = b+1\n",
    "vartest()\n",
    "print(a)\n",
    "for i in range(1,10):\n",
    "    b=i\n",
    "    vartest()\n",
    "    print(b)\n",
    "    "
   ]
  },
  {
   "cell_type": "code",
   "execution_count": null,
   "metadata": {},
   "outputs": [],
   "source": [
    "file = open ('/Users/DaeHyeon/PythonStudy/lecture.memo.txt','wt')\n",
    "text=input('입력')\n",
    "file.write(text)\n",
    "file.close() #txt로 저장하는것은 모든 자료형을 문자열로 저장을 하는 것이다."
   ]
  },
  {
   "cell_type": "code",
   "execution_count": 8,
   "metadata": {},
   "outputs": [
    {
     "name": "stdout",
     "output_type": "stream",
     "text": [
      "2 * 1 = 2\n",
      "2 * 2 = 4\n",
      "2 * 3 = 6\n",
      "2 * 4 = 8\n",
      "2 * 5 = 10\n",
      "2 * 6 = 12\n",
      "2 * 7 = 14\n",
      "2 * 8 = 16\n",
      "2 * 9 = 18\n",
      "3 * 1 = 3\n",
      "3 * 2 = 6\n",
      "3 * 3 = 9\n",
      "3 * 4 = 12\n",
      "3 * 5 = 15\n",
      "3 * 6 = 18\n",
      "3 * 7 = 21\n",
      "3 * 8 = 24\n",
      "3 * 9 = 27\n",
      "4 * 1 = 4\n",
      "4 * 2 = 8\n",
      "4 * 3 = 12\n",
      "4 * 4 = 16\n",
      "4 * 5 = 20\n",
      "4 * 6 = 24\n",
      "4 * 7 = 28\n",
      "4 * 8 = 32\n",
      "4 * 9 = 36\n",
      "5 * 1 = 5\n",
      "5 * 2 = 10\n",
      "5 * 3 = 15\n",
      "5 * 4 = 20\n",
      "5 * 5 = 25\n",
      "5 * 6 = 30\n",
      "5 * 7 = 35\n",
      "5 * 8 = 40\n",
      "5 * 9 = 45\n"
     ]
    }
   ],
   "source": [
    "file = open ('/Users/DaeHyeon/PythonStudy/lecture/memo.txt','wt')\n",
    "\n",
    "for a in range(2,6) :\n",
    "    for b in range(1,10) :\n",
    "        file.write('%d*%d=%d \\n' %(a,b,a*b)) #튜플형식으로 넣어야한다.\n",
    "        print(a, '*', b ,'=',(a*b))\n",
    "file.close()"
   ]
  },
  {
   "cell_type": "code",
   "execution_count": 14,
   "metadata": {},
   "outputs": [],
   "source": [
    "import pickle \n",
    "file = open ('/Users/DaeHyeon/PythonStudy/lecture/memo.bin','wb')\n",
    "list1=['1',2,3,4,5] #'1' 문자열로 바꾸면 에러\n",
    "#file.write(bytes(list1))\n",
    "pickle.dump(list1,file)\n",
    "file.close()"
   ]
  },
  {
   "cell_type": "code",
   "execution_count": 21,
   "metadata": {},
   "outputs": [
    {
     "name": "stdout",
     "output_type": "stream",
     "text": [
      "['1', 2, 3, 4, 5]\n"
     ]
    }
   ],
   "source": [
    "import pickle\n",
    "file = open ('/Users/DaeHyeon/PythonStudy/lecture/memo.bin','rb')\n",
    "result=pickle.load(file)\n",
    "print(result)\n",
    "# data=file.read()\n",
    "file.close()\n",
    "# type(data) # file: binary형태로 저장할 때 숫자만 가능하고 문자열이 들어가는 순간 이상함 . binary로 저장하므로서 자료형형태로 저장가능\n"
   ]
  },
  {
   "cell_type": "code",
   "execution_count": 30,
   "metadata": {},
   "outputs": [
    {
     "name": "stdout",
     "output_type": "stream",
     "text": [
      "2*1=2 \n",
      "2*2=4 \n",
      "2*3=6 \n",
      "2*4=8 \n",
      "2*5=10 \n",
      "2*6=12 \n",
      "2*7=14 \n",
      "2*8=16 \n",
      "2*9=18 \n",
      "3*1=3 \n",
      "3*2=6 \n",
      "3*3=9 \n",
      "3*4=12 \n",
      "3*5=15 \n",
      "3*6=18 \n",
      "3*7=21 \n",
      "3*8=24 \n",
      "3*9=27 \n",
      "4*1=4 \n",
      "4*2=8 \n",
      "4*3=12 \n",
      "4*4=16 \n",
      "4*5=20 \n",
      "4*6=24 \n",
      "4*7=28 \n",
      "4*8=32 \n",
      "4*9=36 \n",
      "5*1=5 \n",
      "5*2=10 \n",
      "5*3=15 \n",
      "5*4=20 \n",
      "5*5=25 \n",
      "5*6=30 \n",
      "5*7=35 \n",
      "5*8=40 \n",
      "5*9=45 \n"
     ]
    },
    {
     "data": {
      "text/plain": [
       "<function TextIOWrapper.close()>"
      ]
     },
     "execution_count": 30,
     "metadata": {},
     "output_type": "execute_result"
    }
   ],
   "source": [
    "file = open ('/Users/DaeHyeon/PythonStudy/lecture/memo.txt') #wt는 기본값\n",
    "while True:\n",
    "    data=file.readline()\n",
    "    if not data:\n",
    "        break\n",
    "    print(data,end='')\n",
    "    \n",
    "file.close\n"
   ]
  },
  {
   "cell_type": "code",
   "execution_count": 35,
   "metadata": {},
   "outputs": [
    {
     "name": "stdout",
     "output_type": "stream",
     "text": [
      "2*1=2 \n",
      "2*2=4 \n",
      "2*3=6 \n",
      "2*4=8 \n",
      "2*5=10 \n",
      "2*6=12 \n",
      "2*7=14 \n",
      "2*8=16 \n",
      "2*9=18 \n",
      "3*1=3 \n",
      "3*2=6 \n",
      "3*3=9 \n",
      "3*4=12 \n",
      "3*5=15 \n",
      "3*6=18 \n",
      "3*7=21 \n",
      "3*8=24 \n",
      "3*9=27 \n",
      "4*1=4 \n",
      "4*2=8 \n",
      "4*3=12 \n",
      "4*4=16 \n",
      "4*5=20 \n",
      "4*6=24 \n",
      "4*7=28 \n",
      "4*8=32 \n",
      "4*9=36 \n",
      "5*1=5 \n",
      "5*2=10 \n",
      "5*3=15 \n",
      "5*4=20 \n",
      "5*5=25 \n",
      "5*6=30 \n",
      "5*7=35 \n",
      "5*8=40 \n",
      "5*9=45 \n"
     ]
    }
   ],
   "source": [
    "file = open ('/Users/DaeHyeon/PythonStudy/lecture/memo.txt')\n",
    "data = file.readlines()\n",
    "with file:\n",
    "    for d in data:\n",
    "        print(d,end='')\n",
    "# print(data)\n",
    "# file.close()"
   ]
  },
  {
   "cell_type": "code",
   "execution_count": 39,
   "metadata": {},
   "outputs": [],
   "source": [
    "class MyFile:\n",
    "    def __init__(self):\n",
    "        print('생성')\n",
    "    def __enter__(self):\n",
    "        print('enter')\n",
    "    def __exit__(self, type,value,traceback):\n",
    "        print('exit')\n",
    "        self.close()\n",
    "    def close():\n",
    "        pass\n"
   ]
  },
  {
   "cell_type": "code",
   "execution_count": 38,
   "metadata": {
    "scrolled": true
   },
   "outputs": [
    {
     "name": "stdout",
     "output_type": "stream",
     "text": [
      "생성\n",
      "enter\n",
      "exit\n"
     ]
    }
   ],
   "source": [
    "m=MyFile()\n",
    "with m:\n",
    "    pass"
   ]
  },
  {
   "cell_type": "code",
   "execution_count": 46,
   "metadata": {},
   "outputs": [
    {
     "name": "stdout",
     "output_type": "stream",
     "text": [
      "가나다라카타파하\n",
      "ABCDWXYZ\n"
     ]
    }
   ],
   "source": [
    "class Letter:\n",
    " # 변수 선언 및 초기화\n",
    "    str=''\n",
    " # write 메소드(함수) 작성\n",
    "    def write(self,str) :\n",
    "        self.str+=str\n",
    " # show 메소드(함수) 작성\n",
    "    def show(self) :\n",
    "        return self.str\n",
    "\n",
    "letter1 = Letter()\n",
    "letter1.write('가나다라')\n",
    "letter1.write('카타파하')\n",
    "letter2 = Letter()\n",
    "letter2.write('ABCD')\n",
    "letter2.write('WXYZ')\n",
    "print(letter1.show())\n",
    "print(letter2.show())"
   ]
  },
  {
   "cell_type": "code",
   "execution_count": 47,
   "metadata": {},
   "outputs": [
    {
     "name": "stdout",
     "output_type": "stream",
     "text": [
      "Python 10000\n",
      "Java 10000\n"
     ]
    }
   ],
   "source": [
    "class Book:\n",
    " # 코드 작성\n",
    "    title=''\n",
    "    price=''\n",
    "    def setTitle(self,title):\n",
    "        self.title=title\n",
    "    def setPrice(self,price):\n",
    "        self.price=price\n",
    "    \n",
    "book1 = Book()\n",
    "book1.setTitle('Python')\n",
    "book1.setPrice(10000)\n",
    "book2 = Book()\n",
    "book2.setTitle('Java')\n",
    "book2.setPrice(10000)\n",
    "print(book1.title, book1.price)\n",
    "print(book2.title, book2.price)"
   ]
  },
  {
   "cell_type": "code",
   "execution_count": 53,
   "metadata": {},
   "outputs": [
    {
     "name": "stdout",
     "output_type": "stream",
     "text": [
      "name=clock, code=c0001, count=500\n",
      "name=tv, code=t0001, count=1500\n"
     ]
    }
   ],
   "source": [
    "class Product:\n",
    " # 코드 작성\n",
    "    name=''\n",
    "    code=''\n",
    "    count=0\n",
    "    def __init__(self,name,code,count) :\n",
    "        self.name=name\n",
    "        self.code=code\n",
    "        self.count=count\n",
    "    def show_info(self):\n",
    "        return 'name=' + self.name + ', code=' + self.code + ', count=' + str(self.count)\n",
    "p1 = Product('clock', 'c0001', 500)\n",
    "print(p1.show_info())\n",
    "p2 = Product('tv', 't0001', 1500)\n",
    "print(p2.show_info())"
   ]
  },
  {
   "cell_type": "code",
   "execution_count": 81,
   "metadata": {},
   "outputs": [
    {
     "name": "stdout",
     "output_type": "stream",
     "text": [
      "['전동 트렁크', '통풍 시트']\n",
      "['뒷자리 에어백', '하이패스']\n"
     ]
    }
   ],
   "source": [
    "class Car:\n",
    "    #option=[] : 파이썬의 특징 c++ 정적변수같은 느낌 참조자료형만 공유!!\n",
    " # 생성자 작성 \n",
    "    def __init__(self):\n",
    "        self.option=[] # 찾조자료형을 공유하지 않고 사용하기 위해서는 init에서 해줘야한다.\n",
    "    \n",
    "   \n",
    " # add_option 메소드 작성\n",
    "    def add_option(self,option):\n",
    "        self.option.append(option)\n",
    " # show_option 메소드 작성\n",
    "    def show_option(self):\n",
    "        return self.option\n",
    "car1 = Car()\n",
    "car2 = Car()\n",
    "car1.add_option('전동 트렁크')\n",
    "car1.add_option('통풍 시트')\n",
    "car2.add_option('뒷자리 에어백')\n",
    "car2.add_option('하이패스')\n",
    "print(car1.show_option())\n",
    "print(car2.show_option())"
   ]
  },
  {
   "cell_type": "code",
   "execution_count": 95,
   "metadata": {},
   "outputs": [
    {
     "name": "stdout",
     "output_type": "stream",
     "text": [
      "['치즈', '베이컨', '고구마']\n",
      "['불고기', '피망']\n"
     ]
    }
   ],
   "source": [
    "class Pizza:\n",
    " # 생성자 작성\n",
    "    def __init__(self):\n",
    "        self.topping=[]\n",
    " # add_topping 메소드 작성\n",
    "    def add_topping(self,topping):\n",
    "        self.topping.append(topping)\n",
    "   \n",
    " # remove 메소드 작성\n",
    "    def remove(self,topping):\n",
    "        self.topping.remove(topping)\n",
    " # show_topping 메소드 작성\n",
    "    def show_topping(self):\n",
    "        return self.topping\n",
    "p1 = Pizza()\n",
    "p1.add_topping('치즈')\n",
    "p1.add_topping('베이컨')\n",
    "p1.add_topping('고구마')\n",
    "p2 = Pizza()\n",
    "p2.add_topping('소시지')\n",
    "p2.add_topping('불고기')\n",
    "p2.add_topping('피망')\n",
    "p2.remove('소시지')\n",
    "print(p1.show_topping())\n",
    "print(p2.show_topping())"
   ]
  },
  {
   "cell_type": "code",
   "execution_count": 99,
   "metadata": {},
   "outputs": [
    {
     "name": "stdout",
     "output_type": "stream",
     "text": [
      "20\n",
      "홍길동의 나이는 25\n"
     ]
    }
   ],
   "source": [
    "class Data:\n",
    "    def __init__(self, data):\n",
    "        words = data.split('|')\n",
    "        self.idx = words[0]\n",
    "        self.name = words[1]\n",
    "        self.age = words[2]\n",
    "        self.grade = words[3]\n",
    "\n",
    "    def print_age(self):\n",
    "        print('%s의 나이는 %s' % (self.name, self.age))\n",
    "data1 = Data('1|김길동|20|A')\n",
    "age1 = data1.age;\n",
    "print(age1)\n",
    "data2 = Data('2|홍길동|25|B')\n",
    "data2.print_age()"
   ]
  },
  {
   "cell_type": "code",
   "execution_count": 102,
   "metadata": {},
   "outputs": [
    {
     "name": "stdout",
     "output_type": "stream",
     "text": [
      "합계 15\n"
     ]
    }
   ],
   "source": [
    "class EachSum:\n",
    "    def __init__(self):\n",
    "        self.total = 0\n",
    "\n",
    "    # 코드 작성\n",
    "    def compute(self,num):\n",
    "        while num>0:\n",
    "            self.total+=num%10\n",
    "            num//=10\n",
    "        return self.total\n",
    "each = EachSum()\n",
    "total = each.compute(12345)\n",
    "print('합계', total)"
   ]
  },
  {
   "cell_type": "code",
   "execution_count": 159,
   "metadata": {},
   "outputs": [
    {
     "name": "stdout",
     "output_type": "stream",
     "text": [
      "쌀국수\n"
     ]
    }
   ],
   "source": [
    "import random\n",
    "class SelectMenu:\n",
    "    # 코드 작성\n",
    "    def __init__(self,menu):\n",
    "        self.menu=menu\n",
    "    def get_menu(self):\n",
    "        return self.menu[random.randint(0,len(self.menu)-1)]\n",
    "menu = SelectMenu(['짬뽕', '초밥', '쌀국수', '주꾸미'])\n",
    "print(menu.get_menu())"
   ]
  },
  {
   "cell_type": "code",
   "execution_count": 160,
   "metadata": {},
   "outputs": [],
   "source": [
    "#모듈\n",
    "import Calendar as cal \n",
    "from Calculator import plus, minus, multiply, divide\n",
    "#같은 경로에 있어야한다. as cal로 이름 바꿔서 사용가능\n",
    "Calendar.divide\n",
    "cal.divide"
   ]
  },
  {
   "cell_type": "code",
   "execution_count": null,
   "metadata": {},
   "outputs": [],
   "source": [
    "#모듈\n",
    "import random\n",
    "random.randing(1,3)\n",
    "from random import randint\n",
    "randint(1,3)"
   ]
  },
  {
   "cell_type": "code",
   "execution_count": 23,
   "metadata": {},
   "outputs": [
    {
     "name": "stdout",
     "output_type": "stream",
     "text": [
      "3\n"
     ]
    }
   ],
   "source": [
    "from mymod import myfunc\n",
    "print(myfunc(1,2))\n",
    "#mymod가 출력됬다. 이는 mymod.py파일이 실행된 것\n",
    "#만약 import를 안하고 mymod.py를 실행하면 main이 출력된다."
   ]
  },
  {
   "cell_type": "code",
   "execution_count": 21,
   "metadata": {},
   "outputs": [
    {
     "name": "stdout",
     "output_type": "stream",
     "text": [
      "A\n",
      "A\n"
     ]
    }
   ],
   "source": [
    "import mod_class as mc\n",
    "my_class = mc.MyClass('A')\n",
    "my_class.show()\n",
    "print(my_class.get_name())"
   ]
  },
  {
   "cell_type": "code",
   "execution_count": 19,
   "metadata": {},
   "outputs": [],
   "source": [
    "import driver.sound.mp3\n",
    "from driver.sound.wav import *\n",
    "import driver.vga.ati\n",
    "from driver.vga.nvidia import *"
   ]
  },
  {
   "cell_type": "code",
   "execution_count": 20,
   "metadata": {},
   "outputs": [],
   "source": [
    "from driver.sound import *\n",
    "from driver.vga import *"
   ]
  },
  {
   "cell_type": "code",
   "execution_count": 4,
   "metadata": {},
   "outputs": [
    {
     "name": "stdout",
     "output_type": "stream",
     "text": [
      "barcode reader: 1234\n",
      "qrcode reader: 5678\n",
      "====================\n",
      "barcode print: 1234\n",
      "qrcode print: 5678\n",
      "barcode screen: 1234\n",
      "qrcode screen: 5678\n"
     ]
    }
   ],
   "source": [
    "from com.ggoreb.python.reader import * \n",
    "import com.ggoreb.python.writer.file as file\n",
    "import com.ggoreb.python.writer.print as printer\n",
    "import com.ggoreb.python.writer.screen as screen\n",
    "barcode.read(1234)\n",
    "qrcode.read(5678)\n",
    "print('='*20)\n",
    "file.write()\n",
    "printer.write()\n",
    "screen.write()"
   ]
  },
  {
   "cell_type": "code",
   "execution_count": 27,
   "metadata": {},
   "outputs": [
    {
     "name": "stdout",
     "output_type": "stream",
     "text": [
      "<class 'collections.Counter'>\n",
      "{'Python': 57, 'is': 8, 'an': 4, 'easy': 1, 'to': 38, 'learn,': 1, 'powerful': 1, 'programming': 1, 'language.': 2, 'It': 3, 'has': 1, 'efficient': 2, 'high-level': 1, 'data': 4, 'structures': 1, 'and': 83, 'a': 13, 'simple': 1, 'but': 2, 'effective': 1, 'approach': 1, 'object-oriented': 1, 'programming.': 2, 'Python’s': 3, 'elegant': 1, 'syntax': 2, 'dynamic': 1, 'typing,': 1, 'together': 1, 'with': 22, 'its': 1, 'interpreted': 1, 'nature,': 1, 'make': 1, 'it': 3, 'ideal': 1, 'language': 3, 'for': 63, 'scripting': 1, 'rapid': 1, 'application': 3, 'development': 2, 'in': 14, 'many': 5, 'areas': 1, 'on': 9, 'most': 3, 'platforms.\\n\\nThe': 1, 'interpreter': 4, 'the': 42, 'extensive': 1, 'standard': 6, 'library': 11, 'are': 5, 'freely': 2, 'available': 2, 'source': 2, 'or': 7, 'binary': 3, 'form': 1, 'all': 3, 'major': 1, 'platforms': 1, 'from': 6, 'Web': 1, 'site,': 1, 'http://www.python.org/,': 1, 'may': 2, 'be': 7, 'distributed.': 1, 'The': 24, 'same': 1, 'site': 3, 'also': 6, 'contains': 2, 'distributions': 1, 'of': 30, 'pointers': 1, 'free': 1, 'third': 1, 'party': 1, 'modules,': 2, 'programs': 3, 'tools,': 1, 'additional': 2, 'documentation.\\n\\nThe': 1, 'easily': 1, 'extended': 1, 'new': 2, 'functions': 6, 'types': 2, 'implemented': 1, 'C': 3, 'C++': 1, '(or': 1, 'other': 1, 'languages': 1, 'callable': 2, 'C).': 1, 'suitable': 1, 'as': 14, 'extension': 3, 'customizable': 1, 'applications.\\n\\nThis': 1, 'tutorial': 3, 'introduces': 2, 'reader': 1, 'informally': 1, 'basic': 2, 'concepts': 1, 'features': 1, 'system.': 1, 'helps': 1, 'have': 1, 'handy': 1, 'hands-on': 1, 'experience,': 1, 'examples': 1, 'self-contained,': 1, 'so': 2, 'can': 1, 'read': 3, 'off-line': 1, 'well.\\n\\nFor': 1, 'description': 1, 'objects': 3, 'see': 1, 'Standard': 7, 'Library.': 1, 'Language': 3, 'Reference': 4, 'gives': 1, 'more': 2, 'formal': 1, 'definition': 1, 'To': 1, 'write': 9, 'extensions': 1, 'C++,': 1, 'Extending': 1, 'Embedding': 1, 'Interpreter': 4, 'Python/C': 1, 'API': 1, 'Manual.': 1, 'There': 1, 'several': 2, 'books': 1, 'covering': 1, 'depth.\\n\\nThis': 1, 'does': 1, 'not': 1, 'attempt': 1, 'comprehensive': 1, 'cover': 1, 'every': 2, 'single': 1, 'feature,': 1, 'even': 1, 'commonly': 2, 'used': 10, 'feature.': 1, 'Instead,': 1, 'noteworthy': 1, 'features,': 1, 'will': 3, 'give': 1, 'you': 3, 'good': 1, 'idea': 1, 'language’s': 1, 'flavor': 1, 'style.': 1, 'After': 1, 'reading': 1, 'it,': 1, 'able': 1, 'modules': 9, 'programs,': 1, 'ready': 1, 'learn': 1, 'about': 1, 'various': 2, 'described': 1, 'Library.\\n\\nThe': 1, 'Glossary': 1, 'worth': 1, 'going': 1, 'through.\\n\\n1.': 1, 'Whetting': 1, 'Your': 1, 'Appetite\\n2.': 1, 'Using': 5, 'Interpreter\\n2.1.': 1, 'Invoking': 1, 'Interpreter\\n2.1.1.': 1, 'Argument': 4, 'Passing\\n2.1.2.': 1, 'Interactive': 5, 'Mode\\n2.2.': 1, 'Its': 1, 'Environment\\n2.2.1.': 1, 'Error': 2, 'Handling\\n2.2.2.': 1, 'Executable': 1, 'Scripts\\n2.2.3.': 1, 'Source': 1, 'Code': 1, 'Encoding\\n2.2.4.': 1, 'Startup': 1, 'File\\n2.2.5.': 1, 'Customization': 1, 'Modules\\n3.': 1, 'An': 2, 'Informal': 1, 'Introduction': 1, 'Python\\n3.1.': 1, 'Calculator\\n3.1.1.': 1, 'Numbers\\n3.1.2.': 1, 'Strings\\n3.1.3.': 1, 'Unicode': 2, 'Strings\\n3.1.4.': 1, 'Lists\\n3.2.': 1, 'First': 2, 'Steps': 1, 'Towards': 1, 'Programming\\n4.': 1, 'More': 5, 'Control': 1, 'Flow': 1, 'Tools\\n4.1.': 1, 'if': 1, 'Statements\\n4.2.': 1, 'Statements\\n4.3.': 1, 'range()': 1, 'Function\\n4.4.': 1, 'break': 1, 'continue': 1, 'Statements,': 1, 'else': 1, 'Clauses': 1, 'Loops\\n4.5.': 1, 'pass': 1, 'Statements\\n4.6.': 1, 'Defining': 3, 'Functions\\n4.7.': 1, 'Functions\\n4.7.1.': 1, 'Default': 1, 'Values\\n4.7.2.': 1, 'Keyword': 1, 'Arguments\\n4.7.3.': 1, 'Arbitrary': 1, 'Lists\\n4.7.4.': 1, 'Unpacking': 1, 'Lists\\n4.7.5.': 1, 'Lambda': 1, 'Expressions\\n4.7.6.': 1, 'Documentation': 2, 'Strings\\n4.8.': 1, 'Intermezzo:': 1, 'Coding': 1, 'Style\\n5.': 1, 'Data': 9, 'Structures\\n5.1.': 1, 'Lists\\n5.1.1.': 1, 'Lists': 2, 'Stacks\\n5.1.2.': 1, 'Queues\\n5.1.3.': 1, 'Functional': 1, 'Programming': 1, 'Tools\\n5.1.4.': 1, 'List': 2, 'Comprehensions\\n5.1.4.1.': 1, 'Nested': 1, 'Comprehensions\\n5.2.': 1, 'del': 1, 'statement\\n5.3.': 1, 'Tuples': 1, 'Sequences\\n5.4.': 1, 'Sets\\n5.5.': 1, 'Dictionaries\\n5.6.': 1, 'Looping': 1, 'Techniques\\n5.7.': 1, 'Conditions\\n5.8.': 1, 'Comparing': 1, 'Sequences': 1, 'Other': 3, 'Types\\n6.': 1, 'Modules\\n6.1.': 1, 'Modules\\n6.1.1.': 1, 'Executing': 1, 'scripts\\n6.1.2.': 1, 'Module': 1, 'Search': 1, 'Path\\n6.1.3.': 1, '“Compiled”': 1, 'files\\n6.2.': 1, 'Modules\\n6.3.': 1, 'dir()': 1, 'Function\\n6.4.': 1, 'Packages\\n6.4.1.': 1, 'Importing': 2, '*': 1, 'From': 1, 'Package\\n6.4.2.': 1, 'Intra-package': 1, 'References\\n6.4.3.': 1, 'Packages': 1, 'Multiple': 3, 'Directories\\n7.': 1, 'Input': 2, 'Output\\n7.1.': 1, 'Fancier': 1, 'Output': 3, 'Formatting\\n7.1.1.': 1, 'Old': 1, 'string': 4, 'formatting\\n7.2.': 1, 'Reading': 2, 'Writing': 1, 'Files\\n7.2.1.': 1, 'Methods': 1, 'File': 7, 'Objects\\n7.2.2.': 1, 'Saving': 1, 'structured': 1, 'json\\n8.': 1, 'Errors': 1, 'Exceptions\\n8.1.': 1, 'Syntax': 2, 'Errors\\n8.2.': 1, 'Exceptions\\n8.3.': 1, 'Handling': 1, 'Exceptions\\n8.4.': 1, 'Raising': 1, 'Exceptions\\n8.5.': 1, 'User-defined': 1, 'Exceptions\\n8.6.': 1, 'Clean-up': 2, 'Actions\\n8.7.': 1, 'Predefined': 1, 'Actions\\n9.': 1, 'Classes\\n9.1.': 1, 'A': 8, 'Word': 1, 'About': 1, 'Names': 2, 'Objects\\n9.2.': 1, 'Scopes': 1, 'Namespaces\\n9.3.': 1, 'Look': 1, 'at': 1, 'Classes\\n9.3.1.': 1, 'Class': 5, 'Definition': 1, 'Syntax\\n9.3.2.': 1, 'Objects\\n9.3.3.': 1, 'Instance': 1, 'Objects\\n9.3.4.': 1, 'Method': 1, 'Objects\\n9.4.': 1, 'Random': 2, 'Remarks\\n9.5.': 1, 'Inheritance\\n9.5.1.': 1, 'Inheritance\\n9.6.': 1, 'Private': 1, 'Variables': 1, 'Class-local': 1, 'References\\n9.7.': 1, 'Odds': 1, 'Ends\\n9.8.': 1, 'Exceptions': 1, 'Are': 1, 'Classes': 1, 'Too\\n9.9.': 1, 'Iterators\\n9.10.': 1, 'Generators\\n9.11.': 1, 'Generator': 1, 'Expressions\\n10.': 1, 'Brief': 2, 'Tour': 2, 'Library\\n10.1.': 1, 'Operating': 3, 'System': 3, 'Interface\\n10.2.': 1, 'Wildcards\\n10.3.': 1, 'Command': 1, 'Line': 2, 'Arguments\\n10.4.': 1, 'Redirection': 1, 'Program': 2, 'Termination\\n10.5.': 1, 'String': 3, 'Pattern': 1, 'Matching\\n10.6.': 1, 'Mathematics\\n10.7.': 1, 'Internet': 5, 'Access\\n10.8.': 1, 'Dates': 1, 'Times\\n10.9.': 1, 'Compression\\n10.10.': 1, 'Performance': 1, 'Measurement\\n10.11.': 1, 'Quality': 1, 'Control\\n10.12.': 1, 'Batteries': 1, 'Included\\n11.': 1, 'Library': 2, '-': 291, 'Part': 1, 'II\\n11.1.': 1, 'Formatting\\n11.2.': 1, 'Templating\\n11.3.': 1, 'Working': 2, 'Binary': 1, 'Record': 1, 'Layouts\\n11.4.': 1, 'Multi-threading\\n11.5.': 1, 'Logging\\n11.6.': 1, 'Weak': 2, 'References\\n11.7.': 1, 'Tools': 3, 'Lists\\n11.8.': 1, 'Decimal': 2, 'Floating': 4, 'Point': 2, 'Arithmetic\\n12.': 1, 'What': 1, 'Now-\\n13.': 1, 'Editing': 1, 'History': 2, 'Substitution\\n13.1.': 1, 'Editing\\n13.2.': 1, 'Substitution\\n13.3.': 1, 'Key': 1, 'Bindings\\n13.4.': 1, 'Alternatives': 1, 'Interpreter\\n14.': 1, 'Arithmetic:': 1, 'Issues': 1, 'Limitations\\n14.1.': 1, 'Representation': 1, 'Error\\n\\nWhile': 1, 'describes': 3, 'exact': 1, 'semantics': 1, 'language,': 1, 'this': 1, 'reference': 1, 'manual': 1, 'that': 6, 'distributed': 1, 'Python.': 1, 'some': 2, 'optional': 2, 'components': 2, 'included': 1, 'distributions.\\n\\nPython’s': 1, 'very': 1, 'extensive,': 1, 'offering': 1, 'wide': 1, 'range': 1, 'facilities': 1, 'indicated': 1, 'by': 5, 'long': 1, 'table': 1, 'contents': 1, 'listed': 1, 'below.': 1, 'built-in': 2, '(written': 1, 'C)': 1, 'provide': 2, 'access': 7, 'system': 6, 'functionality': 1, 'such': 1, 'file': 8, 'I/O': 3, 'would': 1, 'otherwise': 1, 'inaccessible': 1, 'programmers,': 1, 'well': 1, 'written': 1, 'standardized': 1, 'solutions': 1, 'problems': 1, 'occur': 1, 'everyday': 1, 'Some': 1, 'these': 1, 'explicitly': 1, 'designed': 1, 'encourage': 1, 'enhance': 1, 'portability': 1, 'abstracting': 1, 'away': 1, 'platform-specifics': 1, 'into': 2, 'platform-neutral': 1, 'APIs.\\n\\nThe': 1, 'installers': 1, 'Windows': 3, 'platform': 2, 'usually': 1, 'includes': 1, 'entire': 2, 'often': 1, 'include': 1, 'components.': 1, 'For': 1, 'Unix-like': 1, 'operating': 3, 'systems': 1, 'normally': 1, 'provided': 2, 'collection': 2, 'packages,': 1, 'necessary': 1, 'use': 1, 'packaging': 1, 'tools': 2, 'obtain': 1, 'components.\\n\\nIn': 1, 'addition': 1, 'library,': 1, 'there': 1, 'growing': 1, 'thousand': 1, '(from': 1, 'individual': 1, 'packages': 1, 'frameworks),': 1, 'Package': 2, 'Index.\\n\\n1.': 1, 'Introduction\\n2.': 1, 'Built-in': 7, 'Functions\\n3.': 1, 'Non-essential': 1, 'Functions\\n4.': 1, 'Constants\\n4.1.': 1, 'Constants': 9, 'added': 1, 'module\\n5.': 1, 'Types\\n5.1.': 1, 'Truth': 1, 'Value': 1, 'Testing\\n5.2.': 1, 'Boolean': 1, 'Operations': 1, 'and,': 1, 'or,': 1, 'not\\n5.3.': 1, 'Comparisons\\n5.4.': 1, 'Numeric': 3, 'Types': 4, 'int,': 1, 'float,': 1, 'long,': 1, 'complex\\n5.5.': 1, 'Iterator': 1, 'Types\\n5.6.': 1, 'Sequence': 1, 'str,': 1, 'unicode,': 1, 'list,': 1, 'tuple,': 1, 'bytearray,': 1, 'buffer,': 1, 'xrange\\n5.7.': 1, 'Set': 2, 'set,': 1, 'frozenset\\n5.8.': 1, 'Mapping': 1, 'dict\\n5.9.': 1, 'Objects\\n5.10.': 1, 'memoryview': 1, 'type\\n5.11.': 1, 'Context': 1, 'Manager': 2, 'Types\\n5.12.': 1, 'Types\\n5.13.': 1, 'Special': 1, 'Attributes\\n6.': 1, 'Exceptions\\n6.1.': 1, 'Exception': 1, 'hierarchy\\n7.': 1, 'Services\\n7.1.': 1, 'Common': 3, 'operations\\n7.2.': 1, 're': 1, 'Regular': 1, 'expression': 1, 'operations\\n7.3.': 1, 'struct': 1, 'Interpret': 1, 'strings': 2, 'packed': 1, 'data\\n7.4.': 1, 'difflib': 1, 'Helpers': 1, 'computing': 1, 'deltas\\n7.5.': 1, 'StringIO': 1, 'Read': 8, 'files\\n7.6.': 1, 'cStringIO': 1, 'Faster': 1, 'version': 1, 'StringIO\\n7.7.': 1, 'textwrap': 1, 'Text': 3, 'wrapping': 1, 'filling\\n7.8.': 1, 'codecs': 1, 'Codec': 1, 'registry': 2, 'base': 3, 'classes\\n7.9.': 1, 'unicodedata': 1, 'Database\\n7.10.': 1, 'stringprep': 1, 'Preparation\\n7.11.': 1, 'fpformat': 1, 'point': 4, 'conversions\\n8.': 1, 'Types\\n8.1.': 1, 'datetime': 1, 'Basic': 4, 'date': 1, 'time': 3, 'types\\n8.2.': 1, 'calendar': 1, 'General': 1, 'calendar-related': 1, 'functions\\n8.3.': 1, 'collections': 2, 'High-performance': 1, 'container': 1, 'datatypes\\n8.4.': 1, 'heapq': 1, 'Heap': 1, 'queue': 2, 'algorithm\\n8.5.': 1, 'bisect': 1, 'Array': 1, 'bisection': 1, 'algorithm\\n8.6.': 1, 'array': 1, 'Efficient': 1, 'arrays': 1, 'numeric': 1, 'values\\n8.7.': 1, 'sets': 1, 'Unordered': 1, 'unique': 1, 'elements\\n8.8.': 1, 'sched': 1, 'Event': 1, 'scheduler\\n8.9.': 1, 'mutex': 1, 'Mutual': 1, 'exclusion': 1, 'support\\n8.10.': 1, 'Queue': 1, 'synchronized': 1, 'class\\n8.11.': 1, 'weakref': 1, 'references\\n8.12.': 1, 'UserDict': 1, 'wrapper': 4, 'dictionary': 1, 'objects\\n8.13.': 1, 'UserList': 1, 'list': 1, 'objects\\n8.14.': 1, 'UserString': 1, 'objects\\n8.15.': 1, 'types\\n8.16.': 1, 'Creation': 1, 'runtime': 1, 'internal': 1, 'objects\\n8.17.': 1, 'copy': 2, 'Shallow': 1, 'deep': 1, 'operations\\n8.18.': 1, 'pprint': 1, 'pretty': 1, 'printer\\n8.19.': 1, 'repr': 1, 'Alternate': 1, 'repr()': 1, 'implementation\\n9.': 1, 'Mathematical': 3, 'Modules\\n9.1.': 1, 'numbers': 1, 'abstract': 1, 'classes\\n9.2.': 1, 'math': 1, 'functions\\n9.3.': 1, 'cmath': 1, 'complex': 1, 'numbers\\n9.4.': 1, 'decimal': 1, 'fixed': 1, 'floating': 1, 'arithmetic\\n9.5.': 1, 'fractions': 1, 'Rational': 1, 'numbers\\n9.6.': 1, 'random': 1, 'Generate': 4, 'pseudo-random': 1, 'numbers\\n9.7.': 1, 'itertools': 1, 'Functions': 2, 'creating': 1, 'iterators': 1, 'looping\\n9.8.': 1, 'functools': 1, 'Higher-order': 1, 'operations': 1, 'objects\\n9.9.': 1, 'operator': 1, 'operators': 1, 'functions\\n10.': 1, 'Directory': 2, 'Access\\n10.1.': 1, 'os.path': 1, 'pathname': 2, 'manipulations\\n10.2.': 1, 'fileinput': 1, 'Iterate': 1, 'over': 1, 'lines': 1, 'multiple': 1, 'input': 2, 'streams\\n10.3.': 1, 'stat': 1, 'Interpreting': 1, 'stat()': 1, 'results\\n10.4.': 1, 'statvfs': 1, 'os.statvfs()\\n10.5.': 1, 'filecmp': 1, 'Comparisons\\n10.6.': 1, 'tempfile': 1, 'temporary': 1, 'files': 2, 'directories\\n10.7.': 1, 'glob': 1, 'Unix': 5, 'style': 2, 'pattern': 2, 'expansion\\n10.8.': 1, 'fnmatch': 1, 'filename': 1, 'matching\\n10.9.': 1, 'linecache': 1, 'text': 1, 'lines\\n10.10.': 1, 'shutil': 1, 'High-level': 1, 'operations\\n10.11.': 1, 'dircache': 1, 'Cached': 1, 'directory': 1, 'listings\\n10.12.': 1, 'macpath': 1, 'Mac': 7, 'OS': 7, '9': 1, 'path': 1, 'manipulation': 1, 'functions\\n11.': 1, 'Persistence\\n11.1.': 1, 'pickle': 3, 'object': 3, 'serialization\\n11.2.': 1, 'cPickle': 1, 'faster': 1, 'pickle\\n11.3.': 1, 'copy_reg': 1, 'Register': 1, 'support': 1, 'functions\\n11.4.': 1, 'shelve': 1, 'persistence\\n11.5.': 1, 'marshal': 1, 'Internal': 1, 'serialization\\n11.6.': 1, 'anydbm': 1, 'Generic': 4, 'DBM-style': 2, 'databases\\n11.7.': 1, 'whichdb': 1, 'Guess': 1, 'which': 1, 'DBM': 2, 'module': 1, 'created': 1, 'database\\n11.8.': 1, 'dbm': 1, 'Simple': 5, '“database”': 1, 'interface\\n11.9.': 1, 'gdbm': 1, 'GNU’s': 1, 'reinterpretation': 1, 'dbm\\n11.10.': 1, 'dbhash': 1, 'interface': 4, 'BSD': 1, 'database': 1, 'library\\n11.11.': 1, 'bsddb': 1, 'Interface': 6, 'Berkeley': 1, 'DB': 1, 'library\\n11.12.': 1, 'dumbdbm': 1, 'Portable': 2, 'implementation\\n11.13.': 1, 'sqlite3': 1, 'DB-API': 1, '2.0': 1, 'SQLite': 1, 'databases\\n12.': 1, 'Compression': 3, 'Archiving\\n12.1.': 1, 'zlib': 1, 'compatible': 2, 'gzip\\n12.2.': 1, 'gzip': 2, 'Support': 6, 'files\\n12.3.': 1, 'bz2': 1, 'bzip2\\n12.4.': 1, 'zipfile': 1, 'Work': 1, 'ZIP': 1, 'archives\\n12.5.': 1, 'tarfile': 1, 'tar': 1, 'archive': 1, 'files\\n13.': 1, 'Formats\\n13.1.': 1, 'csv': 1, 'CSV': 1, 'Writing\\n13.2.': 1, 'ConfigParser': 1, 'Configuration': 1, 'parser\\n13.3.': 1, 'robotparser': 1, 'Parser': 3, 'robots.txt\\n13.4.': 1, 'netrc': 2, 'processing\\n13.5.': 1, 'xdrlib': 1, 'Encode': 4, 'decode': 4, 'XDR': 1, 'data\\n13.6.': 1, 'plistlib': 1, 'parse': 4, 'X': 3, '.plist': 1, 'files\\n14.': 1, 'Cryptographic': 1, 'Services\\n14.1.': 1, 'hashlib': 1, 'Secure': 1, 'hashes': 1, 'message': 3, 'digests\\n14.2.': 1, 'hmac': 1, 'Keyed-Hashing': 1, 'Message': 1, 'Authentication\\n14.3.': 1, 'md5': 1, 'MD5': 1, 'digest': 2, 'algorithm\\n14.4.': 1, 'sha': 1, 'SHA-1': 1, 'algorithm\\n15.': 1, 'Services\\n15.1.': 1, 'os': 1, 'Miscellaneous': 3, 'interfaces\\n15.2.': 1, 'io': 1, 'Core': 1, 'working': 1, 'streams\\n15.3.': 1, 'Time': 1, 'conversions\\n15.4.': 1, 'argparse': 1, 'command-line': 1, 'options,': 1, 'arguments': 1, 'sub-commands\\n15.5.': 1, 'optparse': 1, 'command': 3, 'line': 2, 'options\\n15.6.': 1, 'getopt': 1, 'C-style': 1, 'parser': 3, 'options\\n15.7.': 1, 'logging': 2, 'Logging': 3, 'facility': 1, 'Python\\n15.8.': 1, 'logging.config': 1, 'configuration\\n15.9.': 1, 'logging.handlers': 1, 'handlers\\n15.10.': 1, 'getpass': 1, 'password': 3, 'input\\n15.11.': 1, 'curses': 2, 'Terminal': 2, 'handling': 4, 'character-cell': 1, 'displays\\n15.12.': 1, 'curses.textpad': 1, 'widget': 1, 'programs\\n15.13.': 1, 'curses.ascii': 1, 'Utilities': 4, 'ASCII': 1, 'characters\\n15.14.': 1, 'curses.panel': 1, 'panel': 1, 'stack': 2, 'curses\\n15.15.': 1, 'Access': 9, 'underlying': 1, 'platform’s': 1, 'identifying': 1, 'data\\n15.16.': 1, 'errno': 2, 'symbols\\n15.17.': 1, 'ctypes': 1, 'foreign': 1, 'function': 2, 'Python\\n16.': 1, 'Optional': 1, 'Services\\n16.1.': 1, 'select': 1, 'Waiting': 1, 'completion\\n16.2.': 1, 'threading': 3, 'Higher-level': 1, 'interface\\n16.3.': 1, 'thread': 2, 'threads': 1, 'control\\n16.4.': 1, 'dummy_threading': 1, 'Drop-in': 2, 'replacement': 2, 'module\\n16.5.': 1, 'dummy_thread': 1, 'module\\n16.6.': 1, 'multiprocessing': 1, 'Process-based': 1, '“threading”': 1, 'interface\\n16.7.': 1, 'mmap': 1, 'Memory-mapped': 1, 'support\\n16.8.': 1, 'readline': 2, 'GNU': 2, 'interface\\n16.9.': 1, 'rlcompleter': 1, 'Completion': 1, 'readline\\n17.': 1, 'Interprocess': 1, 'Communication': 1, 'Networking\\n17.1.': 1, 'subprocess': 1, 'Subprocess': 1, 'management\\n17.2.': 1, 'socket': 4, 'Low-level': 1, 'networking': 1, 'interface\\n17.3.': 1, 'ssl': 1, 'TLS/SSL': 1, 'objects\\n17.4.': 1, 'signal': 1, 'handlers': 1, 'asynchronous': 1, 'events\\n17.5.': 1, 'popen2': 1, 'Subprocesses': 1, 'accessible': 1, 'streams\\n17.6.': 1, 'asyncore': 1, 'Asynchronous': 2, 'handler\\n17.7.': 1, 'asynchat': 1, 'command/response': 1, 'handler\\n18.': 1, 'Handling\\n18.1.': 1, 'email': 2, 'MIME': 6, 'package\\n18.2.': 1, 'json': 1, 'JSON': 1, 'encoder': 1, 'decoder\\n18.3.': 1, 'mailcap': 1, 'Mailcap': 1, 'handling\\n18.4.': 1, 'mailbox': 1, 'Manipulate': 3, 'mailboxes': 1, 'formats\\n18.5.': 1, 'mhlib': 1, 'MH': 1, 'mailboxes\\n18.6.': 1, 'mimetools': 1, 'parsing': 2, 'messages\\n18.7.': 1, 'mimetypes': 1, 'Map': 1, 'filenames': 1, 'types\\n18.8.': 1, 'MimeWriter': 1, 'writer\\n18.9.': 1, 'mimify': 1, 'processing': 1, 'mail': 2, 'messages\\n18.10.': 1, 'multifile': 1, 'containing': 1, 'distinct': 1, 'parts\\n18.11.': 1, 'rfc822': 1, 'Parse': 2, 'RFC': 3, '2822': 1, 'headers\\n18.12.': 1, 'base64': 1, '3548:': 1, 'Base16,': 1, 'Base32,': 1, 'Base64': 1, 'Encodings\\n18.13.': 1, 'binhex': 1, 'binhex4': 1, 'files\\n18.14.': 1, 'binascii': 1, 'Convert': 1, 'between': 3, 'ASCII\\n18.15.': 1, 'quopri': 1, 'quoted-printable': 1, 'data\\n18.16.': 1, 'uu': 1, 'uuencode': 1, 'files\\n19.': 1, 'Structured': 1, 'Markup': 1, 'Processing': 2, 'Tools\\n19.1.': 1, 'HTMLParser': 1, 'HTML': 3, 'XHTML': 1, 'parser\\n19.2.': 1, 'sgmllib': 1, 'SGML': 1, 'parser\\n19.3.': 1, 'htmllib': 1, 'documents\\n19.4.': 1, 'htmlentitydefs': 1, 'Definitions': 1, 'general': 1, 'entities\\n19.5.': 1, 'XML': 5, 'Modules\\n19.6.': 1, 'vulnerabilities\\n19.7.': 1, 'xml.etree.ElementTree': 1, 'ElementTree': 1, 'API\\n19.8.': 1, 'xml.dom': 1, 'Document': 1, 'Object': 1, 'Model': 1, 'API\\n19.9.': 1, 'xml.dom.minidom': 1, 'Minimal': 1, 'DOM': 2, 'implementation\\n19.10.': 1, 'xml.dom.pulldom': 1, 'building': 1, 'partial': 1, 'trees\\n19.11.': 1, 'xml.sax': 1, 'SAX2': 1, 'parsers\\n19.12.': 1, 'xml.sax.handler': 1, 'Base': 2, 'classes': 1, 'SAX': 2, 'handlers\\n19.13.': 1, 'xml.sax.saxutils': 1, 'Utilities\\n19.14.': 1, 'xml.sax.xmlreader': 1, 'parsers\\n19.15.': 1, 'xml.parsers.expat': 1, 'Fast': 1, 'using': 1, 'Expat\\n20.': 1, 'Protocols': 1, 'Support\\n20.1.': 1, 'webbrowser': 1, 'Convenient': 1, 'Web-browser': 1, 'controller\\n20.2.': 1, 'cgi': 1, 'Gateway': 1, 'support\\n20.3.': 1, 'cgitb': 1, 'Traceback': 1, 'manager': 1, 'CGI': 1, 'scripts\\n20.4.': 1, 'wsgiref': 1, 'WSGI': 1, 'Implementation\\n20.5.': 1, 'urllib': 1, 'Open': 2, 'arbitrary': 1, 'resources': 1, 'URL\\n20.6.': 1, 'urllib2': 1, 'extensible': 1, 'opening': 1, 'URLs\\n20.7.': 1, 'httplib': 1, 'HTTP': 6, 'protocol': 6, 'client\\n20.8.': 1, 'ftplib': 1, 'FTP': 1, 'client\\n20.9.': 1, 'poplib': 1, 'POP3': 1, 'client\\n20.10.': 1, 'imaplib': 1, 'IMAP4': 1, 'client\\n20.11.': 1, 'nntplib': 1, 'NNTP': 1, 'client\\n20.12.': 1, 'smtplib': 1, 'SMTP': 2, 'client\\n20.13.': 1, 'smtpd': 1, 'Server\\n20.14.': 1, 'telnetlib': 1, 'Telnet': 1, 'client\\n20.15.': 1, 'uuid': 1, 'UUID': 1, 'according': 1, '4122\\n20.16.': 1, 'urlparse': 1, 'URLs': 1, 'components\\n20.17.': 1, 'SocketServer': 1, 'framework': 1, 'network': 1, 'servers\\n20.18.': 1, 'BaseHTTPServer': 1, 'server\\n20.19.': 1, 'SimpleHTTPServer': 1, 'request': 2, 'handler\\n20.20.': 1, 'CGIHTTPServer': 1, 'CGI-capable': 1, 'handler\\n20.21.': 1, 'cookielib': 1, 'Cookie': 2, 'clients\\n20.22.': 1, 'state': 1, 'management\\n20.23.': 1, 'xmlrpclib': 1, 'XML-RPC': 3, 'client': 2, 'access\\n20.24.': 1, 'SimpleXMLRPCServer': 1, 'server\\n20.25.': 1, 'DocXMLRPCServer': 1, 'Self-documenting': 1, 'server\\n21.': 1, 'Multimedia': 1, 'Services\\n21.1.': 1, 'audioop': 1, 'raw': 2, 'audio': 3, 'data\\n21.2.': 1, 'imageop': 1, 'image': 1, 'data\\n21.3.': 1, 'aifc': 1, 'AIFF': 1, 'AIFC': 1, 'files\\n21.4.': 1, 'sunau': 1, 'Sun': 2, 'AU': 1, 'files\\n21.5.': 1, 'wave': 1, 'WAV': 1, 'files\\n21.6.': 1, 'chunk': 1, 'IFF': 1, 'chunked': 1, 'data\\n21.7.': 1, 'colorsys': 1, 'Conversions': 1, 'color': 1, 'systems\\n21.8.': 1, 'imghdr': 1, 'Determine': 2, 'type': 2, 'image\\n21.9.': 1, 'sndhdr': 1, 'sound': 1, 'file\\n21.10.': 1, 'ossaudiodev': 1, 'OSS-compatible': 1, 'devices\\n22.': 1, 'Internationalization\\n22.1.': 1, 'gettext': 1, 'Multilingual': 1, 'internationalization': 1, 'services\\n22.2.': 1, 'locale': 1, 'Internationalization': 1, 'services\\n23.': 1, 'Frameworks\\n23.1.': 1, 'cmd': 1, 'line-oriented': 1, 'interpreters\\n23.2.': 1, 'shlex': 1, 'lexical': 1, 'analysis\\n24.': 1, 'Graphical': 2, 'User': 2, 'Interfaces': 1, 'Tk\\n24.1.': 1, 'Tkinter': 1, 'Tcl/Tk\\n24.2.': 1, 'ttk': 1, 'Tk': 1, 'themed': 1, 'widgets\\n24.3.': 1, 'Tix': 1, 'Extension': 2, 'widgets': 1, 'Tk\\n24.4.': 1, 'ScrolledText': 1, 'Scrolled': 1, 'Widget\\n24.5.': 1, 'turtle': 1, 'Turtle': 1, 'graphics': 1, 'Tk\\n24.6.': 1, 'IDLE\\n24.7.': 1, 'Packages\\n25.': 1, 'Development': 1, 'Tools\\n25.1.': 1, 'pydoc': 1, 'generator': 1, 'online': 1, 'help': 1, 'system\\n25.2.': 1, 'doctest': 1, 'Test': 1, 'interactive': 1, 'examples\\n25.3.': 1, 'unittest': 1, 'Unit': 1, 'testing': 1, 'framework\\n25.4.': 1, '2to3': 1, 'Automated': 1, '2': 1, '3': 2, 'code': 3, 'translation\\n25.5.': 1, 'test': 1, 'Regression': 1, 'tests': 1, 'package': 1, 'Python\\n25.6.': 1, 'test.test_support': 1, 'Utility': 1, 'tests\\n26.': 1, 'Debugging': 1, 'Profiling\\n26.1.': 1, 'bdb': 1, 'Debugger': 2, 'framework\\n26.2.': 1, 'pdb': 1, 'Debugger\\n26.3.': 1, 'Commands\\n26.4.': 1, 'Profilers\\n26.5.': 1, 'hotshot': 1, 'High': 1, 'performance': 1, 'profiler\\n26.6.': 1, 'timeit': 1, 'Measure': 1, 'execution': 2, 'small': 1, 'snippets\\n26.7.': 1, 'trace': 1, 'Trace': 1, 'track': 1, 'statement': 2, 'execution\\n27.': 1, 'Runtime': 1, 'Services\\n27.1.': 1, 'sys': 1, 'System-specific': 1, 'parameters': 1, 'functions\\n27.2.': 1, 'sysconfig': 1, 'Provide': 1, 'configuration': 3, 'information\\n27.3.': 1, '__builtin__': 1, 'objects\\n27.4.': 1, 'future_builtins': 1, 'builtins\\n27.5.': 1, '__main__': 1, 'Top-level': 1, 'script': 1, 'environment\\n27.6.': 1, 'warnings': 1, 'Warning': 1, 'control\\n27.7.': 1, 'contextlib': 1, 'with-statement': 1, 'contexts\\n27.8.': 1, 'abc': 1, 'Abstract': 3, 'Classes\\n27.9.': 1, 'atexit': 1, 'Exit': 1, 'handlers\\n27.10.': 1, 'traceback': 1, 'Print': 1, 'retrieve': 1, 'traceback\\n27.11.': 1, '__future__': 1, 'Future': 1, 'definitions\\n27.12.': 1, 'gc': 1, 'Garbage': 1, 'Collector': 1, 'interface\\n27.13.': 1, 'inspect': 1, 'Inspect': 1, 'live': 1, 'objects\\n27.14.': 1, 'Site-specific': 1, 'hook\\n27.15.': 1, 'user': 2, 'User-specific': 1, 'hook\\n27.16.': 1, 'fpectl': 1, 'exception': 1, 'control\\n27.17.': 1, 'distutils': 1, 'Building': 1, 'installing': 1, 'modules\\n28.': 1, 'Custom': 1, 'Interpreters\\n28.1.': 1, 'classes\\n28.2.': 1, 'codeop': 1, 'Compile': 2, 'code\\n29.': 1, 'Restricted': 2, 'Execution\\n29.1.': 1, 'rexec': 1, 'framework\\n29.2.': 1, 'Bastion': 1, 'Restricting': 1, 'objects\\n30.': 1, 'Modules\\n30.1.': 1, 'imp': 1, 'import': 1, 'internals\\n30.2.': 1, 'importlib': 1, 'Convenience': 2, 'wrappers': 1, '__import__()\\n30.3.': 1, 'imputil': 1, 'Import': 2, 'utilities\\n30.4.': 1, 'zipimport': 1, 'Zip': 1, 'archives\\n30.5.': 1, 'pkgutil': 1, 'utility\\n30.6.': 1, 'modulefinder': 1, 'Find': 1, 'script\\n30.7.': 1, 'runpy': 1, 'Locating': 1, 'executing': 1, 'modules\\n31.': 1, 'Services\\n31.1.': 1, 'trees\\n31.2.': 1, 'ast': 1, 'Trees\\n31.3.': 1, 'symtable': 1, 'compiler’s': 1, 'symbol': 2, 'tables\\n31.4.': 1, 'trees\\n31.5.': 1, 'token': 1, 'trees\\n31.6.': 1, 'keyword': 1, 'Testing': 1, 'keywords\\n31.7.': 1, 'tokenize': 1, 'Tokenizer': 1, 'source\\n31.8.': 1, 'tabnanny': 1, 'Detection': 1, 'ambiguous': 1, 'indentation\\n31.9.': 1, 'pyclbr': 1, 'class': 1, 'browser': 1, 'support\\n31.10.': 1, 'py_compile': 1, 'files\\n31.11.': 1, 'compileall': 1, 'Byte-compile': 1, 'libraries\\n31.12.': 1, 'dis': 1, 'Disassembler': 1, 'bytecode\\n31.13.': 1, 'pickletools': 1, 'developers\\n32.': 1, 'compiler': 1, 'package\\n32.1.': 1, 'interface\\n32.2.': 1, 'Limitations\\n32.3.': 1, 'Syntax\\n32.4.': 1, 'Visitors': 1, 'Walk': 1, 'ASTs\\n32.5.': 1, 'Bytecode': 1, 'Generation\\n33.': 1, 'Services\\n33.1.': 1, 'formatter': 1, 'output': 1, 'formatting\\n34.': 1, 'MS': 2, 'Specific': 4, 'Services\\n34.1.': 1, 'msilib': 1, 'Microsoft': 1, 'Installer': 1, 'files\\n34.2.': 1, 'msvcrt': 1, 'Useful': 1, 'routines': 2, 'VC++': 1, 'runtime\\n34.3.': 1, '_winreg': 1, 'access\\n34.4.': 1, 'winsound': 1, 'Sound-playing': 1, 'Windows\\n35.': 1, 'Services\\n35.1.': 1, 'posix': 1, 'common': 1, 'POSIX': 2, 'calls\\n35.2.': 1, 'pwd': 1, 'database\\n35.3.': 1, 'spwd': 1, 'shadow': 1, 'database\\n35.4.': 1, 'grp': 1, 'group': 1, 'database\\n35.5.': 1, 'crypt': 1, 'Function': 1, 'check': 1, 'passwords\\n35.6.': 1, 'dl': 1, 'Call': 1, 'shared': 1, 'objects\\n35.7.': 1, 'termios': 1, 'tty': 2, 'control\\n35.8.': 1, 'control': 1, 'functions\\n35.9.': 1, 'pty': 1, 'Pseudo-terminal': 1, 'utilities\\n35.10.': 1, 'fcntl': 2, 'ioctl': 1, 'calls\\n35.11.': 1, 'pipes': 1, 'shell': 1, 'pipelines\\n35.12.': 1, 'posixfile': 1, 'File-like': 1, 'locking': 1, 'support\\n35.13.': 1, 'resource': 1, 'Resource': 1, 'usage': 1, 'information\\n35.14.': 1, 'nis': 1, 'Sun’s': 1, 'NIS': 1, '(Yellow': 1, 'Pages)\\n35.15.': 1, 'syslog': 2, 'routines\\n35.16.': 1, 'commands': 1, 'running': 1, 'commands\\n36.': 1, 'specific': 2, 'services\\n36.1.': 1, 'ic': 1, 'Config\\n36.2.': 1, 'MacOS': 1, 'features\\n36.3.': 1, 'macostools': 1, 'manipulation\\n36.4.': 1, 'findertools': 1, 'finder‘s': 1, 'Apple': 1, 'Events': 1, 'interface\\n36.5.': 1, 'EasyDialogs': 1, 'Macintosh': 1, 'dialogs\\n36.6.': 1, 'FrameWork': 1, 'framework\\n36.7.': 1, 'autoGIL': 1, 'Global': 1, 'Lock': 1, 'event': 1, 'loops\\n36.8.': 1, 'Toolbox': 1, 'Modules\\n36.9.': 1, 'ColorPicker': 1, 'Color': 1, 'selection': 1, 'dialog\\n37.': 1, 'MacPython': 1, 'OSA': 3, 'Modules\\n37.1.': 1, 'gensuitemodule': 1, 'stub': 1, 'packages\\n37.2.': 1, 'aetools': 1, 'support\\n37.3.': 1, 'aepack': 1, 'Conversion': 1, 'variables': 1, 'AppleEvent': 2, 'containers\\n37.4.': 1, 'aetypes': 1, 'objects\\n37.5.': 1, 'MiniAEFrame': 1, 'Scripting': 1, 'Architecture': 1, 'server': 1, 'support\\n38.': 1, 'SGI': 3, 'IRIX': 1, 'Services\\n38.1.': 1, 'al': 2, 'Audio': 1, 'SGI\\n38.2.': 1, 'AL': 1, 'module\\n38.3.': 1, 'cd': 1, 'CD-ROM': 1, 'systems\\n38.4.': 1, 'fl': 2, 'FORMS': 2, 'graphical': 1, 'interfaces\\n38.5.': 1, 'FL': 1, 'module\\n38.6.': 1, 'flp': 1, 'loading': 1, 'stored': 1, 'designs\\n38.7.': 1, 'fm': 1, 'Font': 1, 'interface\\n38.8.': 1, 'gl': 3, 'Graphics': 1, 'interface\\n38.9.': 1, 'DEVICE': 1, 'module\\n38.10.': 1, 'GL': 1, 'module\\n38.11.': 1, 'imgfile': 1, 'imglib': 1, 'files\\n38.12.': 1, 'jpeg': 1, 'JPEG': 1, 'files\\n39.': 1, 'SunOS': 1, 'Services\\n39.1.': 1, 'sunaudiodev': 1, 'hardware\\n39.2.': 1, 'SUNAUDIODEV': 1, 'sunaudiodev\\n40.': 1, 'Undocumented': 2, 'Modules\\n40.1.': 1, 'useful': 1, 'utilities\\n40.2.': 1, 'Platform': 1, 'modules\\n40.3.': 1, 'Multimedia\\n40.4.': 1, 'modules\\n40.5.': 1, 'Obsolete\\n40.6.': 1, 'SGI-specific': 1, 'modules\\n': 1}\n"
     ]
    }
   ],
   "source": [
    "from collections import Counter\n",
    "file = open ('/Users/DaeHyeon/PythonStudy/lecture/dict.txt')\n",
    "data = file.read().split(' ')\n",
    "print(type(Counter(data)))\n",
    "print(dict(Counter(data)))\n",
    "print(daehyon's)\n",
    "file.close()"
   ]
  }
 ],
 "metadata": {
  "kernelspec": {
   "display_name": "Python 3",
   "language": "python",
   "name": "python3"
  },
  "language_info": {
   "codemirror_mode": {
    "name": "ipython",
    "version": 3
   },
   "file_extension": ".py",
   "mimetype": "text/x-python",
   "name": "python",
   "nbconvert_exporter": "python",
   "pygments_lexer": "ipython3",
   "version": "3.8.1"
  }
 },
 "nbformat": 4,
 "nbformat_minor": 4
}
